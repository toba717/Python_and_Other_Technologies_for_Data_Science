{
 "cells": [
  {
   "cell_type": "markdown",
   "metadata": {},
   "source": [
    "# Chapter 9 and 11\n",
    "# Takao Oba"
   ]
  },
  {
   "cell_type": "markdown",
   "metadata": {},
   "source": [
    "Homework copyright Miles Chen. Problems have been adapted from the exercises in Think Python 2nd Ed by Allen B. Downey.\n",
    "\n",
    "The questions have been entered into this document. You will modify the document by entering your code.\n",
    "\n",
    "Make sure you run the cell so the requested output is visible. Download the finished document as a PDF file. If you are unable to convert it to a PDF, you can download it as an HTML file and then print to PDF from a browser\n",
    "\n",
    "**Homework is an opportunity to practice coding and to practice problem solving. Doing exercises is where you will do most of your learning.**\n",
    "\n",
    "**Copying someone else's solutions takes away your learning opportunities. It is also academic dishonesty.**"
   ]
  },
  {
   "cell_type": "markdown",
   "metadata": {
    "tags": []
   },
   "source": [
    "## Reading\n",
    "\n",
    "- Chapters 9, 11\n"
   ]
  },
  {
   "cell_type": "markdown",
   "metadata": {
    "tags": []
   },
   "source": [
    "## Textbook Chapter 9 Problems"
   ]
  },
  {
   "cell_type": "markdown",
   "metadata": {},
   "source": [
    "## Exercise 9.1\n",
    "\n",
    "Download this list of words: http://thinkpython2.com/code/words.txt\n",
    "\n",
    "Write and run a script that reads `words.txt` and prints out only the words with more than 20\n",
    "characters (after stripping whitespace)."
   ]
  },
  {
   "cell_type": "code",
   "execution_count": 20,
   "metadata": {},
   "outputs": [
    {
     "name": "stdout",
     "output_type": "stream",
     "text": [
      "counterdemonstrations\n",
      "hyperaggressivenesses\n",
      "microminiaturizations\n"
     ]
    }
   ],
   "source": [
    "fin = open(\"words1.txt\")\n",
    "for line in fin:\n",
    "    word = line.strip()\n",
    "    if(len(word) > 20):\n",
    "        print(word)"
   ]
  },
  {
   "cell_type": "markdown",
   "metadata": {},
   "source": [
    "## Exercise 9.2\n",
    "\n",
    "Write a function called `has_no_e` that returns True if the word doesn't have the letter e. You can use any of Pythons availble string methods."
   ]
  },
  {
   "cell_type": "code",
   "execution_count": 2,
   "metadata": {},
   "outputs": [],
   "source": [
    "def has_no_e(text):\n",
    "    out = False\n",
    "    for i in text:\n",
    "        if i == \"e\":\n",
    "            out = True\n",
    "    return out"
   ]
  },
  {
   "cell_type": "code",
   "execution_count": 3,
   "metadata": {},
   "outputs": [
    {
     "data": {
      "text/plain": [
       "True"
      ]
     },
     "execution_count": 3,
     "metadata": {},
     "output_type": "execute_result"
    }
   ],
   "source": [
    "has_no_e(\"hello\")"
   ]
  },
  {
   "cell_type": "code",
   "execution_count": 4,
   "metadata": {},
   "outputs": [
    {
     "data": {
      "text/plain": [
       "False"
      ]
     },
     "execution_count": 4,
     "metadata": {},
     "output_type": "execute_result"
    }
   ],
   "source": [
    "has_no_e(\"quit\")"
   ]
  },
  {
   "cell_type": "markdown",
   "metadata": {},
   "source": [
    "With your function, write a script. The script should read the list of words (`words.txt`), print out the number of words that do not have the letter 'e' and the proportion of words that do not have the letter 'e'"
   ]
  },
  {
   "cell_type": "code",
   "execution_count": 19,
   "metadata": {
    "tags": []
   },
   "outputs": [
    {
     "name": "stdout",
     "output_type": "stream",
     "text": [
      "The Number of words that do not have the letter e is 37621\n",
      "The proportion of words that do not have the letter e is 0.33063814453828777\n"
     ]
    }
   ],
   "source": [
    "fin = open(\"words.txt\")\n",
    "index1 = 0\n",
    "index2 = 0\n",
    "for line in fin:\n",
    "    index1 += 1\n",
    "    word = line.strip()\n",
    "    if has_no_e(word) == False:\n",
    "        index2 += 1\n",
    "print(\"The Number of words that do not have the letter e is \" + str(index2))\n",
    "print(\"The proportion of words that do not have the letter e is \" + str(index2 / index1))   "
   ]
  },
  {
   "cell_type": "markdown",
   "metadata": {
    "tags": []
   },
   "source": [
    "### Exercise 11.1\n",
    "\n",
    "Write a function that reads the words found in https://www-cs-faculty.stanford.edu/~knuth/sgb-words.txt and stores them as keys in a dictionary. It doesn't matter what the values are. Then you can use the in operator as a fast way to check whether a string is in the dictionary.\n",
    "\n",
    "Do Exercise 10.10 but instead searching the dictionary using the `in` operator. You can see how much faster it is to search a dictionary than a list for exaample."
   ]
  },
  {
   "cell_type": "code",
   "execution_count": 176,
   "metadata": {},
   "outputs": [],
   "source": [
    "sgb = open(\"sgbwords.txt\")\n",
    "def make_word_dict():\n",
    "    out = dict()\n",
    "    for line in sgb:\n",
    "        word = line.strip()\n",
    "        out[word] = 0\n",
    "    print(out)"
   ]
  },
  {
   "cell_type": "code",
   "execution_count": 169,
   "metadata": {},
   "outputs": [],
   "source": [
    "# make_word_dict()"
   ]
  },
  {
   "cell_type": "code",
   "execution_count": 177,
   "metadata": {},
   "outputs": [
    {
     "data": {
      "text/plain": [
       "True"
      ]
     },
     "execution_count": 177,
     "metadata": {},
     "output_type": "execute_result"
    }
   ],
   "source": [
    "out = dict()\n",
    "for line in sgb:\n",
    "    word = line.strip()\n",
    "    out[word] = 0\n",
    "# print(out)\n",
    "\"hello\" in out"
   ]
  },
  {
   "cell_type": "markdown",
   "metadata": {},
   "source": [
    "### Exercise 11.4\n",
    "\n",
    "In Exercise 10.7 in Homework 6, you created a function called `has_duplicates()`. It takes a list as a parameter and returns `True` if there is any object that appears more than once in the list.\n",
    "\n",
    "Use a dictionary to write a faster, simpler version of `has_duplicates()`."
   ]
  },
  {
   "cell_type": "code",
   "execution_count": 178,
   "metadata": {},
   "outputs": [],
   "source": [
    "def has_duplicates(t):\n",
    "    out = False\n",
    "    intervar = dict()\n",
    "    for word in t:\n",
    "        if word in intervar:\n",
    "            out = True\n",
    "        intervar[word] = 0\n",
    "    print(out)"
   ]
  },
  {
   "cell_type": "code",
   "execution_count": 179,
   "metadata": {},
   "outputs": [
    {
     "name": "stdout",
     "output_type": "stream",
     "text": [
      "True\n"
     ]
    }
   ],
   "source": [
    "has_duplicates(['a','b','b','c'])"
   ]
  },
  {
   "cell_type": "code",
   "execution_count": 180,
   "metadata": {},
   "outputs": [
    {
     "name": "stdout",
     "output_type": "stream",
     "text": [
      "False\n"
     ]
    }
   ],
   "source": [
    "has_duplicates(['b','c'])"
   ]
  },
  {
   "cell_type": "code",
   "execution_count": 181,
   "metadata": {},
   "outputs": [
    {
     "name": "stdout",
     "output_type": "stream",
     "text": [
      "True\n"
     ]
    }
   ],
   "source": [
    "has_duplicates(['a','b','c','a'])"
   ]
  },
  {
   "cell_type": "markdown",
   "metadata": {
    "tags": []
   },
   "source": [
    "### Exercise 11.5\n",
    "\n",
    "A Caesar cipher is a weak form of encryption that involves 'rotating' each letter by a fixed number of places. To rotate a letter means to shift it through the alphabet, wrapping around to the beginning if necessary. \"A\" rotated by 3 is \"D\". \"Z\" rotated by 1 is \"A\".\n",
    "\n",
    "Two words are \"rotate pairs\" if you can rotate one of them and get the other. For example, \"cheer\" rotated by 7 is \"jolly\".\n",
    "\n",
    "Write a script that reads in the wordlist `words.txt` and finds all the rotate pairs of words that are 5 letters or longer.\n",
    "\n",
    "One function that could be helpful is the function `ord()` which converts a character to a numeric code. Keep in mind that numeric codes for uppercase and lowercase letters are different.\n",
    "\n",
    "Some hints:\n",
    "\n",
    "- you can write helper functions, such as a function that will rotate a letter by a certain number and/or another function that will rotate a word by a number of letters\n",
    "- to keep your script running quickly, you should use the wordlist dictionary from exercise 11.1"
   ]
  },
  {
   "cell_type": "code",
   "execution_count": 21,
   "metadata": {},
   "outputs": [],
   "source": [
    "# fin = open(\"words.txt\")\n",
    "# for line in fin:\n",
    "    # word = line.strip()\n",
    "    # if(len(word) >= 5):\n",
    "        # ord1 = [0]\n",
    "        # ord2 = [0]\n",
    "        # for char in word:\n",
    "            # ord1 = ord1.append(ord(char))\n",
    "            # for line2 in fin:\n",
    "                # word2 = line.strip()\n",
    "                # for char2 in word2:\n",
    "                    # ord2 = ord2.append(ord(char2))\n",
    "                    # if ord1 == ord2:\n",
    "                        # print (word)\n",
    "        \n",
    "        "
   ]
  },
  {
   "cell_type": "code",
   "execution_count": null,
   "metadata": {},
   "outputs": [],
   "source": []
  },
  {
   "cell_type": "code",
   "execution_count": 68,
   "metadata": {},
   "outputs": [
    {
     "data": {
      "text/plain": [
       "True"
      ]
     },
     "execution_count": 68,
     "metadata": {},
     "output_type": "execute_result"
    }
   ],
   "source": [
    "sorted(\"abets\") == sorted(\"baste\")"
   ]
  }
 ],
 "metadata": {
  "kernelspec": {
   "display_name": "Python 3 (ipykernel)",
   "language": "python",
   "name": "python3"
  },
  "language_info": {
   "codemirror_mode": {
    "name": "ipython",
    "version": 3
   },
   "file_extension": ".py",
   "mimetype": "text/x-python",
   "name": "python",
   "nbconvert_exporter": "python",
   "pygments_lexer": "ipython3",
   "version": "3.9.7"
  }
 },
 "nbformat": 4,
 "nbformat_minor": 4
}
