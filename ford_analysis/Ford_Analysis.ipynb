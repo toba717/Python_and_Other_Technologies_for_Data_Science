{
 "cells": [
  {
   "cell_type": "code",
   "execution_count": 3,
   "id": "2c3d1fb7-2628-45eb-988c-a92424c00791",
   "metadata": {},
   "outputs": [
    {
     "data": {
      "text/html": [
       "<div>\n",
       "<style scoped>\n",
       "    .dataframe tbody tr th:only-of-type {\n",
       "        vertical-align: middle;\n",
       "    }\n",
       "\n",
       "    .dataframe tbody tr th {\n",
       "        vertical-align: top;\n",
       "    }\n",
       "\n",
       "    .dataframe thead th {\n",
       "        text-align: right;\n",
       "    }\n",
       "</style>\n",
       "<table border=\"1\" class=\"dataframe\">\n",
       "  <thead>\n",
       "    <tr style=\"text-align: right;\">\n",
       "      <th></th>\n",
       "      <th>model</th>\n",
       "      <th>year</th>\n",
       "      <th>price</th>\n",
       "      <th>transmission</th>\n",
       "      <th>mileage</th>\n",
       "      <th>fuelType</th>\n",
       "      <th>tax</th>\n",
       "      <th>mpg</th>\n",
       "      <th>engineSize</th>\n",
       "    </tr>\n",
       "  </thead>\n",
       "  <tbody>\n",
       "    <tr>\n",
       "      <th>0</th>\n",
       "      <td>Fiesta</td>\n",
       "      <td>2017</td>\n",
       "      <td>12000</td>\n",
       "      <td>Automatic</td>\n",
       "      <td>15944</td>\n",
       "      <td>Petrol</td>\n",
       "      <td>150</td>\n",
       "      <td>57.7</td>\n",
       "      <td>1.0</td>\n",
       "    </tr>\n",
       "    <tr>\n",
       "      <th>1</th>\n",
       "      <td>Focus</td>\n",
       "      <td>2018</td>\n",
       "      <td>14000</td>\n",
       "      <td>Manual</td>\n",
       "      <td>9083</td>\n",
       "      <td>Petrol</td>\n",
       "      <td>150</td>\n",
       "      <td>57.7</td>\n",
       "      <td>1.0</td>\n",
       "    </tr>\n",
       "    <tr>\n",
       "      <th>2</th>\n",
       "      <td>Focus</td>\n",
       "      <td>2017</td>\n",
       "      <td>13000</td>\n",
       "      <td>Manual</td>\n",
       "      <td>12456</td>\n",
       "      <td>Petrol</td>\n",
       "      <td>150</td>\n",
       "      <td>57.7</td>\n",
       "      <td>1.0</td>\n",
       "    </tr>\n",
       "    <tr>\n",
       "      <th>3</th>\n",
       "      <td>Fiesta</td>\n",
       "      <td>2019</td>\n",
       "      <td>17500</td>\n",
       "      <td>Manual</td>\n",
       "      <td>10460</td>\n",
       "      <td>Petrol</td>\n",
       "      <td>145</td>\n",
       "      <td>40.3</td>\n",
       "      <td>1.5</td>\n",
       "    </tr>\n",
       "    <tr>\n",
       "      <th>4</th>\n",
       "      <td>Fiesta</td>\n",
       "      <td>2019</td>\n",
       "      <td>16500</td>\n",
       "      <td>Automatic</td>\n",
       "      <td>1482</td>\n",
       "      <td>Petrol</td>\n",
       "      <td>145</td>\n",
       "      <td>48.7</td>\n",
       "      <td>1.0</td>\n",
       "    </tr>\n",
       "    <tr>\n",
       "      <th>...</th>\n",
       "      <td>...</td>\n",
       "      <td>...</td>\n",
       "      <td>...</td>\n",
       "      <td>...</td>\n",
       "      <td>...</td>\n",
       "      <td>...</td>\n",
       "      <td>...</td>\n",
       "      <td>...</td>\n",
       "      <td>...</td>\n",
       "    </tr>\n",
       "    <tr>\n",
       "      <th>17961</th>\n",
       "      <td>B-MAX</td>\n",
       "      <td>2017</td>\n",
       "      <td>8999</td>\n",
       "      <td>Manual</td>\n",
       "      <td>16700</td>\n",
       "      <td>Petrol</td>\n",
       "      <td>150</td>\n",
       "      <td>47.1</td>\n",
       "      <td>1.4</td>\n",
       "    </tr>\n",
       "    <tr>\n",
       "      <th>17962</th>\n",
       "      <td>B-MAX</td>\n",
       "      <td>2014</td>\n",
       "      <td>7499</td>\n",
       "      <td>Manual</td>\n",
       "      <td>40700</td>\n",
       "      <td>Petrol</td>\n",
       "      <td>30</td>\n",
       "      <td>57.7</td>\n",
       "      <td>1.0</td>\n",
       "    </tr>\n",
       "    <tr>\n",
       "      <th>17963</th>\n",
       "      <td>Focus</td>\n",
       "      <td>2015</td>\n",
       "      <td>9999</td>\n",
       "      <td>Manual</td>\n",
       "      <td>7010</td>\n",
       "      <td>Diesel</td>\n",
       "      <td>20</td>\n",
       "      <td>67.3</td>\n",
       "      <td>1.6</td>\n",
       "    </tr>\n",
       "    <tr>\n",
       "      <th>17964</th>\n",
       "      <td>KA</td>\n",
       "      <td>2018</td>\n",
       "      <td>8299</td>\n",
       "      <td>Manual</td>\n",
       "      <td>5007</td>\n",
       "      <td>Petrol</td>\n",
       "      <td>145</td>\n",
       "      <td>57.7</td>\n",
       "      <td>1.2</td>\n",
       "    </tr>\n",
       "    <tr>\n",
       "      <th>17965</th>\n",
       "      <td>Focus</td>\n",
       "      <td>2015</td>\n",
       "      <td>8299</td>\n",
       "      <td>Manual</td>\n",
       "      <td>5007</td>\n",
       "      <td>Petrol</td>\n",
       "      <td>22</td>\n",
       "      <td>57.7</td>\n",
       "      <td>1.0</td>\n",
       "    </tr>\n",
       "  </tbody>\n",
       "</table>\n",
       "<p>17966 rows × 9 columns</p>\n",
       "</div>"
      ],
      "text/plain": [
       "         model  year  price transmission  mileage fuelType  tax   mpg  \\\n",
       "0       Fiesta  2017  12000    Automatic    15944   Petrol  150  57.7   \n",
       "1        Focus  2018  14000       Manual     9083   Petrol  150  57.7   \n",
       "2        Focus  2017  13000       Manual    12456   Petrol  150  57.7   \n",
       "3       Fiesta  2019  17500       Manual    10460   Petrol  145  40.3   \n",
       "4       Fiesta  2019  16500    Automatic     1482   Petrol  145  48.7   \n",
       "...        ...   ...    ...          ...      ...      ...  ...   ...   \n",
       "17961    B-MAX  2017   8999       Manual    16700   Petrol  150  47.1   \n",
       "17962    B-MAX  2014   7499       Manual    40700   Petrol   30  57.7   \n",
       "17963    Focus  2015   9999       Manual     7010   Diesel   20  67.3   \n",
       "17964       KA  2018   8299       Manual     5007   Petrol  145  57.7   \n",
       "17965    Focus  2015   8299       Manual     5007   Petrol   22  57.7   \n",
       "\n",
       "       engineSize  \n",
       "0             1.0  \n",
       "1             1.0  \n",
       "2             1.0  \n",
       "3             1.5  \n",
       "4             1.0  \n",
       "...           ...  \n",
       "17961         1.4  \n",
       "17962         1.0  \n",
       "17963         1.6  \n",
       "17964         1.2  \n",
       "17965         1.0  \n",
       "\n",
       "[17966 rows x 9 columns]"
      ]
     },
     "execution_count": 3,
     "metadata": {},
     "output_type": "execute_result"
    }
   ],
   "source": [
    "# Imports\n",
    "import pandas as pd\n",
    "import matplotlib.pyplot as plt\n",
    "\n",
    "# Data\n",
    "url = \"https://raw.githubusercontent.com/PokeBowen/FordProject/main/ford.csv\"\n",
    "df = pd.read_csv(url)\n",
    "df"
   ]
  },
  {
   "cell_type": "markdown",
   "id": "ebfcea69-ec34-4e4d-b85c-75a7f40612d2",
   "metadata": {},
   "source": [
    "Harry: Among the used cars that were sold, what attributes did they have in common? Are there any specific attributes that people look for when purchasing used cars?\n",
    "The used car market is very different from, but also as big as the new car market. Many people that buy used cars do not look for the same things as the people that buy new cars. Whether it is the price, mileage, or other attributes, we want to see which attributes make a car more appealing in the used car market. \n",
    "We can categorize the cars based on mileage into new and used cars. And from there we can see the frequencies of the attribute to determine the trend\n"
   ]
  },
  {
   "cell_type": "code",
   "execution_count": 4,
   "id": "216683ce-3ea3-4448-a9d4-5de3f553983d",
   "metadata": {},
   "outputs": [
    {
     "data": {
      "text/plain": [
       "model           0\n",
       "year            0\n",
       "price           0\n",
       "transmission    0\n",
       "mileage         0\n",
       "fuelType        0\n",
       "tax             0\n",
       "mpg             0\n",
       "engineSize      0\n",
       "dtype: int64"
      ]
     },
     "execution_count": 4,
     "metadata": {},
     "output_type": "execute_result"
    }
   ],
   "source": [
    "df.isna().sum()"
   ]
  },
  {
   "cell_type": "code",
   "execution_count": 5,
   "id": "30dccb8d-2881-499f-96e6-9a17a5648109",
   "metadata": {},
   "outputs": [
    {
     "data": {
      "text/plain": [
       "model            object\n",
       "year              int64\n",
       "price             int64\n",
       "transmission     object\n",
       "mileage           int64\n",
       "fuelType         object\n",
       "tax               int64\n",
       "mpg             float64\n",
       "engineSize      float64\n",
       "dtype: object"
      ]
     },
     "execution_count": 5,
     "metadata": {},
     "output_type": "execute_result"
    }
   ],
   "source": [
    "df.dtypes"
   ]
  },
  {
   "cell_type": "code",
   "execution_count": 6,
   "id": "1de97335-c44d-4098-a80c-9f16b64a0af8",
   "metadata": {},
   "outputs": [
    {
     "data": {
      "text/plain": [
       "2060"
      ]
     },
     "execution_count": 6,
     "metadata": {},
     "output_type": "execute_result"
    }
   ],
   "source": [
    "max(df[\"year\"])"
   ]
  },
  {
   "cell_type": "code",
   "execution_count": 7,
   "id": "f05ab17d-4986-44fc-a156-fafe90629340",
   "metadata": {},
   "outputs": [
    {
     "data": {
      "text/plain": [
       "2020"
      ]
     },
     "execution_count": 7,
     "metadata": {},
     "output_type": "execute_result"
    }
   ],
   "source": [
    "df = df[(df[\"year\"] != 2060)]\n",
    "max(df[\"year\"])"
   ]
  },
  {
   "cell_type": "code",
   "execution_count": 8,
   "id": "bb6cb7ad-d297-4a7d-a4d1-0457b7fca2f2",
   "metadata": {},
   "outputs": [
    {
     "data": {
      "text/html": [
       "<div>\n",
       "<style scoped>\n",
       "    .dataframe tbody tr th:only-of-type {\n",
       "        vertical-align: middle;\n",
       "    }\n",
       "\n",
       "    .dataframe tbody tr th {\n",
       "        vertical-align: top;\n",
       "    }\n",
       "\n",
       "    .dataframe thead th {\n",
       "        text-align: right;\n",
       "    }\n",
       "</style>\n",
       "<table border=\"1\" class=\"dataframe\">\n",
       "  <thead>\n",
       "    <tr style=\"text-align: right;\">\n",
       "      <th></th>\n",
       "      <th>model</th>\n",
       "      <th>year</th>\n",
       "      <th>price</th>\n",
       "      <th>transmission</th>\n",
       "      <th>mileage</th>\n",
       "      <th>fuelType</th>\n",
       "      <th>tax</th>\n",
       "      <th>mpg</th>\n",
       "      <th>engineSize</th>\n",
       "    </tr>\n",
       "  </thead>\n",
       "  <tbody>\n",
       "    <tr>\n",
       "      <th>35</th>\n",
       "      <td>Mondeo</td>\n",
       "      <td>2019</td>\n",
       "      <td>20000</td>\n",
       "      <td>Manual</td>\n",
       "      <td>24</td>\n",
       "      <td>Diesel</td>\n",
       "      <td>145</td>\n",
       "      <td>65.7</td>\n",
       "      <td>2.0</td>\n",
       "    </tr>\n",
       "    <tr>\n",
       "      <th>43</th>\n",
       "      <td>Fiesta</td>\n",
       "      <td>2019</td>\n",
       "      <td>13140</td>\n",
       "      <td>Manual</td>\n",
       "      <td>7</td>\n",
       "      <td>Petrol</td>\n",
       "      <td>145</td>\n",
       "      <td>48.7</td>\n",
       "      <td>1.1</td>\n",
       "    </tr>\n",
       "    <tr>\n",
       "      <th>52</th>\n",
       "      <td>Ka+</td>\n",
       "      <td>2019</td>\n",
       "      <td>8495</td>\n",
       "      <td>Manual</td>\n",
       "      <td>32</td>\n",
       "      <td>Petrol</td>\n",
       "      <td>145</td>\n",
       "      <td>48.7</td>\n",
       "      <td>1.2</td>\n",
       "    </tr>\n",
       "    <tr>\n",
       "      <th>246</th>\n",
       "      <td>EcoSport</td>\n",
       "      <td>2020</td>\n",
       "      <td>17998</td>\n",
       "      <td>Manual</td>\n",
       "      <td>250</td>\n",
       "      <td>Petrol</td>\n",
       "      <td>145</td>\n",
       "      <td>51.4</td>\n",
       "      <td>1.0</td>\n",
       "    </tr>\n",
       "    <tr>\n",
       "      <th>509</th>\n",
       "      <td>Tourneo Custom</td>\n",
       "      <td>2019</td>\n",
       "      <td>29999</td>\n",
       "      <td>Manual</td>\n",
       "      <td>100</td>\n",
       "      <td>Diesel</td>\n",
       "      <td>145</td>\n",
       "      <td>30.1</td>\n",
       "      <td>2.0</td>\n",
       "    </tr>\n",
       "  </tbody>\n",
       "</table>\n",
       "</div>"
      ],
      "text/plain": [
       "               model  year  price transmission  mileage fuelType  tax   mpg  \\\n",
       "35            Mondeo  2019  20000       Manual       24   Diesel  145  65.7   \n",
       "43            Fiesta  2019  13140       Manual        7   Petrol  145  48.7   \n",
       "52               Ka+  2019   8495       Manual       32   Petrol  145  48.7   \n",
       "246         EcoSport  2020  17998       Manual      250   Petrol  145  51.4   \n",
       "509   Tourneo Custom  2019  29999       Manual      100   Diesel  145  30.1   \n",
       "\n",
       "     engineSize  \n",
       "35          2.0  \n",
       "43          1.1  \n",
       "52          1.2  \n",
       "246         1.0  \n",
       "509         2.0  "
      ]
     },
     "execution_count": 8,
     "metadata": {},
     "output_type": "execute_result"
    }
   ],
   "source": [
    "new_cars = df[df[\"mileage\"] <= 500]\n",
    "new_cars.head()"
   ]
  },
  {
   "cell_type": "code",
   "execution_count": 9,
   "id": "78fc245c-2a9d-4d09-81f9-cb30535d3f0c",
   "metadata": {},
   "outputs": [
    {
     "data": {
      "text/html": [
       "<div>\n",
       "<style scoped>\n",
       "    .dataframe tbody tr th:only-of-type {\n",
       "        vertical-align: middle;\n",
       "    }\n",
       "\n",
       "    .dataframe tbody tr th {\n",
       "        vertical-align: top;\n",
       "    }\n",
       "\n",
       "    .dataframe thead th {\n",
       "        text-align: right;\n",
       "    }\n",
       "</style>\n",
       "<table border=\"1\" class=\"dataframe\">\n",
       "  <thead>\n",
       "    <tr style=\"text-align: right;\">\n",
       "      <th></th>\n",
       "      <th>model</th>\n",
       "      <th>year</th>\n",
       "      <th>price</th>\n",
       "      <th>transmission</th>\n",
       "      <th>mileage</th>\n",
       "      <th>fuelType</th>\n",
       "      <th>tax</th>\n",
       "      <th>mpg</th>\n",
       "      <th>engineSize</th>\n",
       "    </tr>\n",
       "  </thead>\n",
       "  <tbody>\n",
       "    <tr>\n",
       "      <th>0</th>\n",
       "      <td>Fiesta</td>\n",
       "      <td>2017</td>\n",
       "      <td>12000</td>\n",
       "      <td>Automatic</td>\n",
       "      <td>15944</td>\n",
       "      <td>Petrol</td>\n",
       "      <td>150</td>\n",
       "      <td>57.7</td>\n",
       "      <td>1.0</td>\n",
       "    </tr>\n",
       "    <tr>\n",
       "      <th>1</th>\n",
       "      <td>Focus</td>\n",
       "      <td>2018</td>\n",
       "      <td>14000</td>\n",
       "      <td>Manual</td>\n",
       "      <td>9083</td>\n",
       "      <td>Petrol</td>\n",
       "      <td>150</td>\n",
       "      <td>57.7</td>\n",
       "      <td>1.0</td>\n",
       "    </tr>\n",
       "    <tr>\n",
       "      <th>2</th>\n",
       "      <td>Focus</td>\n",
       "      <td>2017</td>\n",
       "      <td>13000</td>\n",
       "      <td>Manual</td>\n",
       "      <td>12456</td>\n",
       "      <td>Petrol</td>\n",
       "      <td>150</td>\n",
       "      <td>57.7</td>\n",
       "      <td>1.0</td>\n",
       "    </tr>\n",
       "    <tr>\n",
       "      <th>3</th>\n",
       "      <td>Fiesta</td>\n",
       "      <td>2019</td>\n",
       "      <td>17500</td>\n",
       "      <td>Manual</td>\n",
       "      <td>10460</td>\n",
       "      <td>Petrol</td>\n",
       "      <td>145</td>\n",
       "      <td>40.3</td>\n",
       "      <td>1.5</td>\n",
       "    </tr>\n",
       "    <tr>\n",
       "      <th>4</th>\n",
       "      <td>Fiesta</td>\n",
       "      <td>2019</td>\n",
       "      <td>16500</td>\n",
       "      <td>Automatic</td>\n",
       "      <td>1482</td>\n",
       "      <td>Petrol</td>\n",
       "      <td>145</td>\n",
       "      <td>48.7</td>\n",
       "      <td>1.0</td>\n",
       "    </tr>\n",
       "  </tbody>\n",
       "</table>\n",
       "</div>"
      ],
      "text/plain": [
       "     model  year  price transmission  mileage fuelType  tax   mpg  engineSize\n",
       "0   Fiesta  2017  12000    Automatic    15944   Petrol  150  57.7         1.0\n",
       "1    Focus  2018  14000       Manual     9083   Petrol  150  57.7         1.0\n",
       "2    Focus  2017  13000       Manual    12456   Petrol  150  57.7         1.0\n",
       "3   Fiesta  2019  17500       Manual    10460   Petrol  145  40.3         1.5\n",
       "4   Fiesta  2019  16500    Automatic     1482   Petrol  145  48.7         1.0"
      ]
     },
     "execution_count": 9,
     "metadata": {},
     "output_type": "execute_result"
    }
   ],
   "source": [
    "used_cars = df[df[\"mileage\"] > 500]\n",
    "used_cars.head()"
   ]
  },
  {
   "cell_type": "code",
   "execution_count": 10,
   "id": "b02883ae-c28c-4a4a-931b-d439df944487",
   "metadata": {},
   "outputs": [
    {
     "data": {
      "text/plain": [
       " Fiesta      6447\n",
       " Focus       4535\n",
       " Kuga        2205\n",
       " EcoSport    1104\n",
       " C-MAX        542\n",
       "Name: model, dtype: int64"
      ]
     },
     "execution_count": 10,
     "metadata": {},
     "output_type": "execute_result"
    }
   ],
   "source": [
    "#Top 5 Most popular Used Cars\n",
    "used_cars[\"model\"].value_counts()[0:5]"
   ]
  },
  {
   "cell_type": "markdown",
   "id": "c9e4113d-8053-41d7-92cb-28177e999349",
   "metadata": {},
   "source": [
    "Fiesta <- subcompact\n",
    "Focus <- compact\n",
    "Kuga <- SUV\n",
    "EcoSport <- SUV\n",
    "C-MAX <- Compact"
   ]
  },
  {
   "cell_type": "code",
   "execution_count": 69,
   "id": "daa0bdbe-ff72-4806-82d2-2b6defadef9f",
   "metadata": {},
   "outputs": [
    {
     "data": {
      "text/plain": [
       "<AxesSubplot:>"
      ]
     },
     "execution_count": 69,
     "metadata": {},
     "output_type": "execute_result"
    },
    {
     "data": {
      "image/png": "[encoded data removed]",
      "text/plain": [
       "<Figure size 432x432 with 1 Axes>"
      ]
     },
     "metadata": {},
     "output_type": "display_data"
    }
   ],
   "source": [
    "used_cars[\"model\"].value_counts().plot.pie(figsize = (6,6), ylabel = \"\")"
   ]
  },
  {
   "cell_type": "code",
   "execution_count": 11,
   "id": "d6a36a48-1746-4f86-b768-8ee8a762401a",
   "metadata": {},
   "outputs": [
    {
     "data": {
      "text/plain": [
       " Fiesta      109\n",
       " Focus        53\n",
       " Mondeo       49\n",
       " EcoSport     39\n",
       " Ka+          31\n",
       "Name: model, dtype: int64"
      ]
     },
     "execution_count": 11,
     "metadata": {},
     "output_type": "execute_result"
    }
   ],
   "source": [
    "#Top 5 Most popular New Cars\n",
    "new_cars[\"model\"].value_counts()[0:5]"
   ]
  },
  {
   "cell_type": "markdown",
   "id": "21187710-4fb3-478c-9f11-fea5e82b4837",
   "metadata": {},
   "source": [
    "Fiesta <- subcompact\n",
    "Focus <- compact\n",
    "Mondeo <- medium-size hatchback\n",
    "EcoSport <- SUV\n",
    "Ka+ <- subcompact "
   ]
  },
  {
   "cell_type": "code",
   "execution_count": 70,
   "id": "094be787-debb-4272-bb9e-f6438958568b",
   "metadata": {},
   "outputs": [
    {
     "data": {
      "text/plain": [
       "<AxesSubplot:>"
      ]
     },
     "execution_count": 70,
     "metadata": {},
     "output_type": "execute_result"
    },
    {
     "data": {
      "image/png": "[encoded data removed]",
      "text/plain": [
       "<Figure size 432x432 with 1 Axes>"
      ]
     },
     "metadata": {},
     "output_type": "display_data"
    }
   ],
   "source": [
    "new_cars[\"model\"].value_counts().plot.pie(figsize = (6,6), ylabel = \"\")"
   ]
  },
  {
   "cell_type": "markdown",
   "id": "47f6bf1d-8264-4985-90a3-7b0ae90d246d",
   "metadata": {},
   "source": [
    "### Insight\n",
    "\n",
    "Ford Fiesta and Focus are the most popular cars in both new and used Ford market\n",
    "The type of the car (compact, subcompact, SUV, etc) does not seem to be significant"
   ]
  },
  {
   "cell_type": "code",
   "execution_count": 12,
   "id": "15d0036d-63c0-458b-8c82-696ad7dea6ec",
   "metadata": {},
   "outputs": [
    {
     "data": {
      "text/plain": [
       "year           2019.245014\n",
       "price         18772.356125\n",
       "tax             145.598291\n",
       "mpg              54.052422\n",
       "engineSize        1.373219\n",
       "dtype: float64"
      ]
     },
     "execution_count": 12,
     "metadata": {},
     "output_type": "execute_result"
    }
   ],
   "source": [
    "#Average values for New Cars\n",
    "new_cars[[\"year\", \"price\", \"tax\", \"mpg\", \"engineSize\"]].mean()"
   ]
  },
  {
   "cell_type": "code",
   "execution_count": 107,
   "id": "ae95587c-75fc-4c6b-b7c4-7b3e427c7b27",
   "metadata": {},
   "outputs": [
    {
     "data": {
      "text/plain": [
       "<matplotlib.lines.Line2D at 0x18e08b4ec70>"
      ]
     },
     "execution_count": 107,
     "metadata": {},
     "output_type": "execute_result"
    },
    {
     "data": {
      "image/png": "[encoded data removed]",
      "text/plain": [
       "<Figure size 432x288 with 1 Axes>"
      ]
     },
     "metadata": {
      "needs_background": "light"
     },
     "output_type": "display_data"
    }
   ],
   "source": [
    "new_cars[\"price\"].plot(kind = \"hist\", alpha = 1, title = \"New Car Price\", bins = 50, edgecolor = \"black\")\n",
    "plt.axvline(x = new_cars[\"price\"].mean(), color = \"red\")"
   ]
  },
  {
   "cell_type": "code",
   "execution_count": 67,
   "id": "c9eb8106-6a1f-4267-8a25-467f123f57d2",
   "metadata": {},
   "outputs": [
    {
     "data": {
      "text/plain": [
       "year           2016.816623\n",
       "price         12150.478653\n",
       "mileage       23824.159362\n",
       "tax             112.681219\n",
       "mpg              57.984649\n",
       "engineSize        1.350358\n",
       "dtype: float64"
      ]
     },
     "execution_count": 67,
     "metadata": {},
     "output_type": "execute_result"
    }
   ],
   "source": [
    "#Average values for Used Cars\n",
    "used_cars[[\"year\", \"price\", \"mileage\", \"tax\", \"mpg\", \"engineSize\"]].mean()"
   ]
  },
  {
   "cell_type": "code",
   "execution_count": 108,
   "id": "b6a19d19-b7c9-4c61-9826-3ac8288f33b4",
   "metadata": {},
   "outputs": [
    {
     "data": {
      "text/plain": [
       "<matplotlib.lines.Line2D at 0x18e08c249a0>"
      ]
     },
     "execution_count": 108,
     "metadata": {},
     "output_type": "execute_result"
    },
    {
     "data": {
      "image/png": "[encoded data removed]",
      "text/plain": [
       "<Figure size 432x288 with 1 Axes>"
      ]
     },
     "metadata": {
      "needs_background": "light"
     },
     "output_type": "display_data"
    }
   ],
   "source": [
    "used_cars[\"price\"].plot(kind = \"hist\", alpha = 1, title = \"Used Car Price\", bins = 50, edgecolor = \"black\")\n",
    "plt.axvline(x = used_cars[\"price\"].mean(), color = \"red\")"
   ]
  },
  {
   "cell_type": "markdown",
   "id": "c0dbd7f9-0683-4fde-93d2-832dd04a6584",
   "metadata": {},
   "source": [
    "### Insight\n",
    "\n",
    "On average, the prices of used ford cars are $6621.88 cheaper , the mpg is 3.93223 higher."
   ]
  },
  {
   "cell_type": "code",
   "execution_count": 28,
   "id": "a9587864-8fb2-4faa-aabc-757038c19ec4",
   "metadata": {},
   "outputs": [
    {
     "name": "stdout",
     "output_type": "stream",
     "text": [
      "model\n",
      " Streetka    1924.5000\n",
      " Fusion      2555.8125\n",
      " Escort      3000.0000\n",
      "Name: price, dtype: float64\n"
     ]
    }
   ],
   "source": [
    "mean_used_sorted = used_cars.groupby(\"model\").mean().sort_values(by = \"price\")\n",
    "print(mean_used_sorted[\"price\"][0:3])"
   ]
  },
  {
   "cell_type": "code",
   "execution_count": 29,
   "id": "93d1956b-f942-4822-bc29-94a62a411204",
   "metadata": {},
   "outputs": [
    {
     "name": "stdout",
     "output_type": "stream",
     "text": [
      "model\n",
      " KA        10499.000000\n",
      " Ka+       11651.516129\n",
      " Fiesta    15280.532110\n",
      "Name: price, dtype: float64\n"
     ]
    }
   ],
   "source": [
    "mean_new_sorted = new_cars.groupby(\"model\").mean().sort_values(by = \"price\")\n",
    "print(mean_new_sorted['price'][0:3])"
   ]
  },
  {
   "cell_type": "code",
   "execution_count": 46,
   "id": "69462932-0455-4380-a8a4-6a2a6bb4ca66",
   "metadata": {},
   "outputs": [
    {
     "name": "stdout",
     "output_type": "stream",
     "text": [
      "6138.907148784458\n"
     ]
    }
   ],
   "source": [
    "price_diff = mean_new_sorted[\"price\"] - mean_used_sorted[\"price\"]\n",
    "diff = price_diff.dropna()\n",
    "mean_diff = sum(diff) / len(diff)\n",
    "print(mean_diff)"
   ]
  },
  {
   "cell_type": "markdown",
   "id": "34accf51-b1a8-45f7-81c1-8d53da717b8e",
   "metadata": {},
   "source": [
    "### Insight\n",
    "\n",
    "Among the cars that were both sold used and new, the used cars on average cost $6138.91 less."
   ]
  },
  {
   "cell_type": "code",
   "execution_count": 11,
   "id": "6bc8cd75-f447-4446-abe9-0d7d61caa0d7",
   "metadata": {},
   "outputs": [
    {
     "data": {
      "text/html": [
       "<div>\n",
       "<style scoped>\n",
       "    .dataframe tbody tr th:only-of-type {\n",
       "        vertical-align: middle;\n",
       "    }\n",
       "\n",
       "    .dataframe tbody tr th {\n",
       "        vertical-align: top;\n",
       "    }\n",
       "\n",
       "    .dataframe thead th {\n",
       "        text-align: right;\n",
       "    }\n",
       "</style>\n",
       "<table border=\"1\" class=\"dataframe\">\n",
       "  <thead>\n",
       "    <tr style=\"text-align: right;\">\n",
       "      <th></th>\n",
       "      <th>transmission</th>\n",
       "      <th>fuelType</th>\n",
       "    </tr>\n",
       "  </thead>\n",
       "  <tbody>\n",
       "    <tr>\n",
       "      <th>0</th>\n",
       "      <td>Manual</td>\n",
       "      <td>Petrol</td>\n",
       "    </tr>\n",
       "  </tbody>\n",
       "</table>\n",
       "</div>"
      ],
      "text/plain": [
       "  transmission fuelType\n",
       "0       Manual   Petrol"
      ]
     },
     "execution_count": 11,
     "metadata": {},
     "output_type": "execute_result"
    }
   ],
   "source": [
    "#Most sought after feature in New Cars\n",
    "new_cars[[\"transmission\", \"fuelType\"]].mode()"
   ]
  },
  {
   "cell_type": "code",
   "execution_count": 12,
   "id": "a725083a-fbc9-4144-b9dc-fb9833a629d9",
   "metadata": {},
   "outputs": [
    {
     "data": {
      "text/html": [
       "<div>\n",
       "<style scoped>\n",
       "    .dataframe tbody tr th:only-of-type {\n",
       "        vertical-align: middle;\n",
       "    }\n",
       "\n",
       "    .dataframe tbody tr th {\n",
       "        vertical-align: top;\n",
       "    }\n",
       "\n",
       "    .dataframe thead th {\n",
       "        text-align: right;\n",
       "    }\n",
       "</style>\n",
       "<table border=\"1\" class=\"dataframe\">\n",
       "  <thead>\n",
       "    <tr style=\"text-align: right;\">\n",
       "      <th></th>\n",
       "      <th>transmission</th>\n",
       "      <th>fuelType</th>\n",
       "    </tr>\n",
       "  </thead>\n",
       "  <tbody>\n",
       "    <tr>\n",
       "      <th>0</th>\n",
       "      <td>Manual</td>\n",
       "      <td>Petrol</td>\n",
       "    </tr>\n",
       "  </tbody>\n",
       "</table>\n",
       "</div>"
      ],
      "text/plain": [
       "  transmission fuelType\n",
       "0       Manual   Petrol"
      ]
     },
     "execution_count": 12,
     "metadata": {},
     "output_type": "execute_result"
    }
   ],
   "source": [
    "#Most sought after feature in Used Cars\n",
    "used_cars[[\"transmission\", \"fuelType\"]].mode()"
   ]
  },
  {
   "cell_type": "code",
   "execution_count": 59,
   "id": "64c5f237-8a79-4575-9bfc-45c4a99067cc",
   "metadata": {},
   "outputs": [
    {
     "data": {
      "text/plain": [
       "<AxesSubplot:title={'center':'Transmission'}>"
      ]
     },
     "execution_count": 59,
     "metadata": {},
     "output_type": "execute_result"
    },
    {
     "data": {
      "image/png": "[encoded data removed]",
      "text/plain": [
       "<Figure size 432x288 with 1 Axes>"
      ]
     },
     "metadata": {
      "needs_background": "light"
     },
     "output_type": "display_data"
    }
   ],
   "source": [
    "new_cars[\"transmission\"].value_counts().plot(kind = \"bar\", title = \"Transmission\")"
   ]
  },
  {
   "cell_type": "code",
   "execution_count": 60,
   "id": "a3343fd7-b8f1-493c-9af1-63bb41c34983",
   "metadata": {},
   "outputs": [
    {
     "data": {
      "text/plain": [
       "<AxesSubplot:title={'center':'Transmission'}>"
      ]
     },
     "execution_count": 60,
     "metadata": {},
     "output_type": "execute_result"
    },
    {
     "data": {
      "image/png": "[encoded data removed]",
      "text/plain": [
       "<Figure size 432x288 with 1 Axes>"
      ]
     },
     "metadata": {
      "needs_background": "light"
     },
     "output_type": "display_data"
    }
   ],
   "source": [
    "used_cars[\"transmission\"].value_counts().plot(kind = \"bar\", title = \"Transmission\")"
   ]
  },
  {
   "cell_type": "code",
   "execution_count": 62,
   "id": "c777a018-8be6-4027-b511-f8a16e4487fb",
   "metadata": {},
   "outputs": [
    {
     "data": {
      "text/plain": [
       "<AxesSubplot:title={'center':'fuelType'}>"
      ]
     },
     "execution_count": 62,
     "metadata": {},
     "output_type": "execute_result"
    },
    {
     "data": {
      "image/png": "[encoded data removed]",
      "text/plain": [
       "<Figure size 432x288 with 1 Axes>"
      ]
     },
     "metadata": {
      "needs_background": "light"
     },
     "output_type": "display_data"
    }
   ],
   "source": [
    "new_cars[\"fuelType\"].value_counts().plot(kind = \"bar\", title = \"fuelType\")"
   ]
  },
  {
   "cell_type": "code",
   "execution_count": 63,
   "id": "f752ec72-9f38-4f0e-8d00-a4b6ca63b562",
   "metadata": {},
   "outputs": [
    {
     "data": {
      "text/plain": [
       "<AxesSubplot:title={'center':'fuelType'}>"
      ]
     },
     "execution_count": 63,
     "metadata": {},
     "output_type": "execute_result"
    },
    {
     "data": {
      "image/png": "[encoded data removed]",
      "text/plain": [
       "<Figure size 432x288 with 1 Axes>"
      ]
     },
     "metadata": {
      "needs_background": "light"
     },
     "output_type": "display_data"
    }
   ],
   "source": [
    "used_cars[\"fuelType\"].value_counts().plot(kind = \"bar\", title = \"fuelType\")"
   ]
  },
  {
   "cell_type": "markdown",
   "id": "fb248ac7-b882-444a-ab90-bed40e95d9e3",
   "metadata": {},
   "source": [
    "### Insight\n",
    "\n",
    "Regardless of the condition of the car, the most popular type of transmission was Manual and the most popular fuelType was Petrol."
   ]
  },
  {
   "cell_type": "code",
   "execution_count": 73,
   "id": "b0a021de-f8f3-43e3-b90d-c4bd52adf9e5",
   "metadata": {},
   "outputs": [
    {
     "data": {
      "text/plain": [
       "54.05242165242166"
      ]
     },
     "execution_count": 73,
     "metadata": {},
     "output_type": "execute_result"
    }
   ],
   "source": [
    "new_cars[\"mpg\"].mean()"
   ]
  },
  {
   "cell_type": "code",
   "execution_count": 72,
   "id": "fe176647-a2db-4ad1-a4b8-8a0ef2b9505b",
   "metadata": {},
   "outputs": [
    {
     "data": {
      "text/plain": [
       "57.984648574997564"
      ]
     },
     "execution_count": 72,
     "metadata": {},
     "output_type": "execute_result"
    }
   ],
   "source": [
    "used_cars[\"mpg\"].mean()"
   ]
  },
  {
   "cell_type": "code",
   "execution_count": 116,
   "id": "7a3347b9-eb38-4e00-9971-6d5291ececb2",
   "metadata": {},
   "outputs": [
    {
     "data": {
      "text/plain": [
       "<matplotlib.lines.Line2D at 0x18e093032e0>"
      ]
     },
     "execution_count": 116,
     "metadata": {},
     "output_type": "execute_result"
    },
    {
     "data": {
      "image/png": "[encoded data removed]",
      "text/plain": [
       "<Figure size 432x288 with 1 Axes>"
      ]
     },
     "metadata": {
      "needs_background": "light"
     },
     "output_type": "display_data"
    }
   ],
   "source": [
    "new_cars[\"mpg\"].plot(kind = \"hist\", alpha = 1, title = \"New Car MPG\", edgecolor='black', bins = 50)\n",
    "plt.axvline(x = new_cars[\"mpg\"].mean(), color = \"red\")"
   ]
  },
  {
   "cell_type": "code",
   "execution_count": 117,
   "id": "3112de36-8cda-4be5-97ca-2ccb3a7a184b",
   "metadata": {},
   "outputs": [
    {
     "data": {
      "text/plain": [
       "<matplotlib.lines.Line2D at 0x18e0a3a9fd0>"
      ]
     },
     "execution_count": 117,
     "metadata": {},
     "output_type": "execute_result"
    },
    {
     "data": {
      "image/png": "[encoded data removed]",
      "text/plain": [
       "<Figure size 432x288 with 1 Axes>"
      ]
     },
     "metadata": {
      "needs_background": "light"
     },
     "output_type": "display_data"
    }
   ],
   "source": [
    "used_cars[\"mpg\"].plot(kind = \"hist\", alpha = 1, title = \"Used Car MPG\", edgecolor='black', bins = 50)\n",
    "plt.axvline(x = used_cars[\"mpg\"].mean(), color = \"red\")"
   ]
  },
  {
   "cell_type": "markdown",
   "id": "90d4de6c-6387-445f-92ef-6b1667007b97",
   "metadata": {},
   "source": [
    "### Insight\n",
    "\n",
    "The average mpg for new cars sold was around 54.0524 while the average mpg for used cars sold was around 57.9846, with a difference less than 4mpg. Therefore the cars' MPG is similar in used and new car markets"
   ]
  },
  {
   "cell_type": "code",
   "execution_count": 81,
   "id": "a2f947b2-fc8a-4dc1-8325-ef1ac94e8268",
   "metadata": {},
   "outputs": [
    {
     "data": {
      "text/plain": [
       "0    1.0\n",
       "dtype: float64"
      ]
     },
     "execution_count": 81,
     "metadata": {},
     "output_type": "execute_result"
    }
   ],
   "source": [
    "new_cars[\"engineSize\"].mode()"
   ]
  },
  {
   "cell_type": "code",
   "execution_count": 83,
   "id": "e72fc040-5b12-4156-90c9-f17181e6ab7f",
   "metadata": {},
   "outputs": [
    {
     "data": {
      "text/plain": [
       "0    1.0\n",
       "dtype: float64"
      ]
     },
     "execution_count": 83,
     "metadata": {},
     "output_type": "execute_result"
    }
   ],
   "source": [
    "used_cars[\"engineSize\"].mode()"
   ]
  },
  {
   "cell_type": "code",
   "execution_count": null,
   "id": "1c45a292-7be1-426f-a120-dba6d795bab7",
   "metadata": {},
   "outputs": [],
   "source": [
    "new_cars[\"engineSize\"].mean()"
   ]
  },
  {
   "cell_type": "code",
   "execution_count": null,
   "id": "8e528bf2-2338-4d46-ac2d-45a7d257d10e",
   "metadata": {},
   "outputs": [],
   "source": [
    "used_cars[\"engineSize\"].mean()"
   ]
  },
  {
   "cell_type": "code",
   "execution_count": 85,
   "id": "7d933f7b-ba52-40c5-967b-21b1a9d9434f",
   "metadata": {},
   "outputs": [
    {
     "data": {
      "text/plain": [
       "<AxesSubplot:title={'center':'New Car Engine Size'}>"
      ]
     },
     "execution_count": 85,
     "metadata": {},
     "output_type": "execute_result"
    },
    {
     "data": {
      "image/png": "[encoded data removed]",
      "text/plain": [
       "<Figure size 432x288 with 1 Axes>"
      ]
     },
     "metadata": {
      "needs_background": "light"
     },
     "output_type": "display_data"
    }
   ],
   "source": [
    "new_cars[\"engineSize\"].value_counts().plot(kind = \"bar\", title = \"New Car Engine Size\")"
   ]
  },
  {
   "cell_type": "code",
   "execution_count": 86,
   "id": "7d6f422e-a73f-4268-8833-947753f64514",
   "metadata": {},
   "outputs": [
    {
     "data": {
      "text/plain": [
       "<AxesSubplot:title={'center':'Used Car Engine Size'}>"
      ]
     },
     "execution_count": 86,
     "metadata": {},
     "output_type": "execute_result"
    },
    {
     "data": {
      "image/png": "[encoded data removed]",
      "text/plain": [
       "<Figure size 432x288 with 1 Axes>"
      ]
     },
     "metadata": {
      "needs_background": "light"
     },
     "output_type": "display_data"
    }
   ],
   "source": [
    "used_cars[\"engineSize\"].value_counts().plot(kind = \"bar\", title = \"Used Car Engine Size\")"
   ]
  },
  {
   "cell_type": "markdown",
   "id": "f39b569b-fa27-416f-bd1d-a5649c64b5ee",
   "metadata": {},
   "source": [
    "### Insight\n",
    "\n",
    "For both used and new cars' engine size, the most popular size was 1, or in other words 1.0 litre."
   ]
  },
  {
   "cell_type": "code",
   "execution_count": null,
   "id": "4cc479af-d0d0-49a0-885b-bcbcb70d6181",
   "metadata": {},
   "outputs": [],
   "source": []
  },
  {
   "cell_type": "code",
   "execution_count": null,
   "id": "008d28e7-0db1-462f-8fab-58e5615b5a1b",
   "metadata": {},
   "outputs": [],
   "source": []
  },
  {
   "cell_type": "code",
   "execution_count": null,
   "id": "f61e3517-3c05-4b2f-950f-ee8c1c122789",
   "metadata": {},
   "outputs": [],
   "source": []
  },
  {
   "cell_type": "code",
   "execution_count": null,
   "id": "23a8ab12-6c19-42a3-a775-1eea57f36aa9",
   "metadata": {},
   "outputs": [],
   "source": []
  },
  {
   "cell_type": "code",
   "execution_count": null,
   "id": "d8262b7b-df91-48e6-a231-459d5f58ade9",
   "metadata": {},
   "outputs": [],
   "source": []
  },
  {
   "cell_type": "code",
   "execution_count": null,
   "id": "e5caaa0c-894c-44db-89a8-7ba7ccb5181b",
   "metadata": {},
   "outputs": [],
   "source": []
  },
  {
   "cell_type": "code",
   "execution_count": null,
   "id": "50e30d10-07d2-4d60-b308-acdffd999d1d",
   "metadata": {},
   "outputs": [],
   "source": []
  },
  {
   "cell_type": "code",
   "execution_count": 13,
   "id": "50f52369-640e-40f5-aff6-94a320037814",
   "metadata": {},
   "outputs": [
    {
     "data": {
      "text/plain": [
       "Text(0.5, 1.0, 'Milage and Price in used cars')"
      ]
     },
     "execution_count": 13,
     "metadata": {},
     "output_type": "execute_result"
    },
    {
     "data": {
      "image/png": "[encoded data removed]",
      "text/plain": [
       "<Figure size 432x288 with 1 Axes>"
      ]
     },
     "metadata": {
      "needs_background": "light"
     },
     "output_type": "display_data"
    }
   ],
   "source": [
    "plt.scatter(\"mileage\", \"price\", data = used_cars,s = 0.7)\n",
    "plt.xlabel(\"Mileage\")\n",
    "plt.ylabel(\"Price\")\n",
    "plt.title(\"Milage and Price in used cars\")"
   ]
  },
  {
   "cell_type": "code",
   "execution_count": null,
   "id": "6a239bd9-4ef9-4fe8-9ff3-5212cd4b2bf9",
   "metadata": {},
   "outputs": [],
   "source": []
  },
  {
   "cell_type": "code",
   "execution_count": 14,
   "id": "47d0598f-4c0f-4713-bcef-a452c5d5d407",
   "metadata": {},
   "outputs": [
    {
     "data": {
      "text/plain": [
       "Text(0.5, 1.0, 'The Change in Price of New cars')"
      ]
     },
     "execution_count": 14,
     "metadata": {},
     "output_type": "execute_result"
    },
    {
     "data": {
      "image/png": "[encoded data removed]",
      "text/plain": [
       "<Figure size 432x288 with 1 Axes>"
      ]
     },
     "metadata": {
      "needs_background": "light"
     },
     "output_type": "display_data"
    }
   ],
   "source": [
    "plt.bar(\"year\", \"price\", data = new_cars)\n",
    "plt.ylabel(\"Price\")\n",
    "plt.xlabel(\"Year\")\n",
    "plt.title(\"The Change in Price of New cars\")"
   ]
  },
  {
   "cell_type": "code",
   "execution_count": 15,
   "id": "3f4d027b-0284-42ae-812b-35e5d76815ff",
   "metadata": {},
   "outputs": [
    {
     "data": {
      "text/plain": [
       "Text(0.5, 1.0, 'The Change in Price of Used cars')"
      ]
     },
     "execution_count": 15,
     "metadata": {},
     "output_type": "execute_result"
    },
    {
     "data": {
      "image/png": "[encoded data removed]",
      "text/plain": [
       "<Figure size 432x288 with 1 Axes>"
      ]
     },
     "metadata": {
      "needs_background": "light"
     },
     "output_type": "display_data"
    }
   ],
   "source": [
    "# Is there a correlation between the year of the car and the price?\n",
    "plt.bar(\"year\", \"price\", data = used_cars)\n",
    "plt.ylabel(\"Price\")\n",
    "plt.xlabel(\"Year\")\n",
    "plt.title(\"The Change in Price of Used cars\")"
   ]
  },
  {
   "cell_type": "code",
   "execution_count": 16,
   "id": "f30e722f-4490-4456-8cdb-7f7fac2e20e7",
   "metadata": {},
   "outputs": [
    {
     "data": {
      "text/plain": [
       "Text(0, 0.5, 'Mileage')"
      ]
     },
     "execution_count": 16,
     "metadata": {},
     "output_type": "execute_result"
    },
    {
     "data": {
      "image/png": "[encoded data removed]",
      "text/plain": [
       "<Figure size 432x288 with 1 Axes>"
      ]
     },
     "metadata": {
      "needs_background": "light"
     },
     "output_type": "display_data"
    }
   ],
   "source": [
    "# Is there a correlation between the year of the car and mileage?\n",
    "plt.bar(\"year\", \"mileage\", data = used_cars)\n",
    "plt.xlabel(\"Year\")\n",
    "plt.ylabel(\"Mileage\")\n",
    "\n",
    "# Potential insight\n",
    "  # There seems to be no correlation between car and mileage, meaning that it was not necessarily true that older cars had higher mileage\n",
    "  # Therefore there is a correlation between price and year?"
   ]
  },
  {
   "cell_type": "code",
   "execution_count": 17,
   "id": "123deca7-517d-42ad-875b-086074bac9d9",
   "metadata": {},
   "outputs": [
    {
     "data": {
      "text/plain": [
       "Text(0, 0.5, 'mpg')"
      ]
     },
     "execution_count": 17,
     "metadata": {},
     "output_type": "execute_result"
    },
    {
     "data": {
      "image/png": "[encoded data removed]",
      "text/plain": [
       "<Figure size 432x288 with 1 Axes>"
      ]
     },
     "metadata": {
      "needs_background": "light"
     },
     "output_type": "display_data"
    }
   ],
   "source": [
    "# Increased fuel efficiency?\n",
    "plt.bar(\"year\", \"mpg\", data = df)\n",
    "plt.xlabel(\"Year\")\n",
    "plt.ylabel(\"mpg\")"
   ]
  },
  {
   "cell_type": "code",
   "execution_count": null,
   "id": "fa190000-221a-4762-b487-8c538fb574d0",
   "metadata": {},
   "outputs": [],
   "source": []
  }
 ],
 "metadata": {
  "kernelspec": {
   "display_name": "Python 3 (ipykernel)",
   "language": "python",
   "name": "python3"
  },
  "language_info": {
   "codemirror_mode": {
    "name": "ipython",
    "version": 3
   },
   "file_extension": ".py",
   "mimetype": "text/x-python",
   "name": "python",
   "nbconvert_exporter": "python",
   "pygments_lexer": "ipython3",
   "version": "3.9.7"
  }
 },
 "nbformat": 4,
 "nbformat_minor": 5
}

