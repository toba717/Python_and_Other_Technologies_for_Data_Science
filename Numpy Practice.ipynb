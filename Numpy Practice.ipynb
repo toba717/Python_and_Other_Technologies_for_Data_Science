{
 "cells": [
  {
   "cell_type": "markdown",
   "metadata": {},
   "source": [
    "# Numpy Practice\n",
    "# Takao Oba"
   ]
  },
  {
   "cell_type": "markdown",
   "metadata": {},
   "source": [
    "Homework copyright Miles Chen. Problems have been adapted from teh exercises in Think Python 2nd Ed by Allen B. Downey.\n",
    "\n",
    "The questions have been entered into this document. You will modify the document by entering your code.\n",
    "\n",
    "Make sure you run the cell so the requested output is visible. Download the finished document as a PDF file. If you are unable to convert it to a PDF, you can download it as an HTML file and then print to PDF.\n",
    "\n",
    "**Homework is an opportunity to practice coding and to practice problem solving. Doing exercises is where you will do most of your learning.**\n",
    "\n",
    "**Copying someone else's solutions takes away your learning opportunities. It is also academic dishonesty.**"
   ]
  },
  {
   "cell_type": "markdown",
   "metadata": {},
   "source": [
    "### NumPy Exercises\n",
    "\n",
    "For the following exercises, be sure to print the desired output. You will not receive credit for problems that do not print the desired output.\n",
    "\n",
    "Some of these exercises will require the use of functions in numpy that may not have been covered in class. Look up documentation on how to use them. I always recommend checking the official reference at https://numpy.org/doc/stable/reference/index.html "
   ]
  },
  {
   "cell_type": "code",
   "execution_count": 64,
   "metadata": {},
   "outputs": [],
   "source": [
    "import numpy as np\n",
    "np.random.seed(1)"
   ]
  },
  {
   "cell_type": "markdown",
   "metadata": {},
   "source": [
    "#### Exercise NP.1:\n",
    "\n",
    "Task: Create an array `b` of 10 random integers selected between 0-99\n",
    "\n",
    "Desired output: `[37 12 72  9 75  5 79 64 16  1]` of course yours might be different"
   ]
  },
  {
   "cell_type": "code",
   "execution_count": 163,
   "metadata": {},
   "outputs": [
    {
     "name": "stdout",
     "output_type": "stream",
     "text": [
      "[ 4 91 59 67  7 49 47 65 61 14]\n"
     ]
    }
   ],
   "source": [
    "b = np.random.randint(100, size=10)\n",
    "print(b)"
   ]
  },
  {
   "cell_type": "markdown",
   "metadata": {},
   "source": [
    "#### NP.1b:\n",
    "\n",
    "Task: reverse the elements in `b`. Hint: Try slicing the array, but backwards\n",
    "\n",
    "Desired output: `[ 1 16 64 79  5 75  9 72 12 37]` yours will be different"
   ]
  },
  {
   "cell_type": "code",
   "execution_count": 164,
   "metadata": {},
   "outputs": [
    {
     "name": "stdout",
     "output_type": "stream",
     "text": [
      "[14 61 65 47 49  7 67 59 91  4]\n"
     ]
    }
   ],
   "source": [
    "print(b[::-1])"
   ]
  },
  {
   "cell_type": "markdown",
   "metadata": {},
   "source": [
    "#### NP.2a:\n",
    "\n",
    "Task: Create an array `c` of 1000 random values selected from a normal distribution centered at 100 with sd = 15, rounded to 1 decimal place. Print only the first 10 values.\n",
    "\n",
    "Desired output: `[ 92.1  83.9 113.   65.5 126.2  88.6 104.8  96.3 121.9  69.1]` of course your values may be different"
   ]
  },
  {
   "cell_type": "code",
   "execution_count": 165,
   "metadata": {},
   "outputs": [
    {
     "name": "stdout",
     "output_type": "stream",
     "text": [
      "[ 81.  104.1 132.1 107.1 103.7  83.7  64.3  93.5  68.9  80.6]\n"
     ]
    }
   ],
   "source": [
    "c_pre = np.random.normal(100, 15, size = 1000)\n",
    "c = np.round(c_pre, 1)\n",
    "print(c[0:10])"
   ]
  },
  {
   "cell_type": "markdown",
   "metadata": {},
   "source": [
    "#### NP.2b:\n",
    "\n",
    "Perform a Shapiro-Wilk test to see if the values in c come from a normal distribution. Report the p-value and appropriate conclusion.\n",
    "\n",
    "Look up `scipy.stats.shapiro` for usage and details.\n",
    "\n",
    "https://docs.scipy.org/doc/scipy/reference/generated/scipy.stats.shapiro.html"
   ]
  },
  {
   "cell_type": "code",
   "execution_count": 62,
   "metadata": {},
   "outputs": [
    {
     "data": {
      "text/plain": [
       "ShapiroResult(statistic=0.956468403339386, pvalue=0.7449769377708435)"
      ]
     },
     "execution_count": 62,
     "metadata": {},
     "output_type": "execute_result"
    }
   ],
   "source": [
    "from scipy.stats import shapiro\n",
    "shapiro(c)"
   ]
  },
  {
   "cell_type": "markdown",
   "metadata": {},
   "source": [
    "####  NP.2c:\n",
    "\n",
    "Identify and print the values in `c` that are more than 3 standard deviations from the mean of `c`. Report the proportion of values that are more than 3 sd from the mean.\n",
    "\n",
    "Desired output: `[ 54.1 ... 148.3 ]`\n",
    "\n",
    "`0.32 of the values are beyond 3 sd from the mean.`"
   ]
  },
  {
   "cell_type": "code",
   "execution_count": 82,
   "metadata": {},
   "outputs": [
    {
     "name": "stdout",
     "output_type": "stream",
     "text": [
      "[54.2, 145.5, 149.8, 159.4]\n"
     ]
    }
   ],
   "source": [
    "std_c = np.std(c)\n",
    "mean_c = np.mean(c)\n",
    "large_thres = mean_c + 3*std_c\n",
    "small_thres = mean_c - 3*std_c\n",
    "out = c[(c<small_thres) | (c>large_thres)]\n",
    "print(sorted(out))"
   ]
  },
  {
   "cell_type": "markdown",
   "metadata": {},
   "source": [
    "#### NP.3:\n",
    "\n",
    "Task: Make a 3x3 identity matrix called `I3`\n",
    "\n",
    "Desired output: \n",
    "\n",
    "~~~\n",
    "[[1. 0. 0.]\n",
    " [0. 1. 0.]\n",
    " [0. 0. 1.]]\n",
    "~~~"
   ]
  },
  {
   "cell_type": "code",
   "execution_count": 85,
   "metadata": {},
   "outputs": [
    {
     "name": "stdout",
     "output_type": "stream",
     "text": [
      "[[1. 0. 0.]\n",
      " [0. 1. 0.]\n",
      " [0. 0. 1.]]\n"
     ]
    }
   ],
   "source": [
    "I3 = np.matrix([[1.,0.,0.],[0.,1.,0.],[0.,0.,1.]])\n",
    "print(I3)"
   ]
  },
  {
   "cell_type": "markdown",
   "metadata": {},
   "source": [
    "#### NP.4a:\n",
    "\n",
    "Task: Make a 10x10 array of values 1 to 100. Call it X\n",
    "\n",
    "Desired output: \n",
    "\n",
    "~~~\n",
    "[[  1   2   3   4   5   6   7   8   9  10]\n",
    " [ 11  12  13  14  15  16  17  18  19  20]\n",
    " [ 21  22  23  24  25  26  27  28  29  30]\n",
    " [ 31  32  33  34  35  36  37  38  39  40]\n",
    " [ 41  42  43  44  45  46  47  48  49  50]\n",
    " [ 51  52  53  54  55  56  57  58  59  60]\n",
    " [ 61  62  63  64  65  66  67  68  69  70]\n",
    " [ 71  72  73  74  75  76  77  78  79  80]\n",
    " [ 81  82  83  84  85  86  87  88  89  90]\n",
    " [ 91  92  93  94  95  96  97  98  99 100]]\n",
    " ~~~"
   ]
  },
  {
   "cell_type": "code",
   "execution_count": 103,
   "metadata": {},
   "outputs": [
    {
     "name": "stdout",
     "output_type": "stream",
     "text": [
      "[[  1   2   3   4   5   6   7   8   9  10]\n",
      " [ 11  12  13  14  15  16  17  18  19  20]\n",
      " [ 21  22  23  24  25  26  27  28  29  30]\n",
      " [ 31  32  33  34  35  36  37  38  39  40]\n",
      " [ 41  42  43  44  45  46  47  48  49  50]\n",
      " [ 51  52  53  54  55  56  57  58  59  60]\n",
      " [ 61  62  63  64  65  66  67  68  69  70]\n",
      " [ 71  72  73  74  75  76  77  78  79  80]\n",
      " [ 81  82  83  84  85  86  87  88  89  90]\n",
      " [ 91  92  93  94  95  96  97  98  99 100]]\n"
     ]
    }
   ],
   "source": [
    "inter_var = np.arange(101)\n",
    "inter_var = inter_var[1:101]\n",
    "X = np.reshape(inter_var, (10, 10))\n",
    "print(X)"
   ]
  },
  {
   "cell_type": "markdown",
   "metadata": {
    "tags": []
   },
   "source": [
    "#### NP.4b:\n",
    "\n",
    "Task: Make a copy of X, call it Y (1 line). Replace all values in Y that are not squares with 0 (1 line). see `numpy.isin()`\n",
    "\n",
    "Desired output: \n",
    "\n",
    "~~~\n",
    "[[  1   0   0   4   0   0   0   0   9   0]\n",
    " [  0   0   0   0   0  16   0   0   0   0]\n",
    " [  0   0   0   0  25   0   0   0   0   0]\n",
    "...\n",
    " [  0   0   0   0   0   0   0   0   0 100]]\n",
    " ~~~"
   ]
  },
  {
   "cell_type": "code",
   "execution_count": 175,
   "metadata": {},
   "outputs": [
    {
     "name": "stdout",
     "output_type": "stream",
     "text": [
      "[[  1   0   0   4   0   0   0   0   9   0]\n",
      " [  0   0   0   0   0  16   0   0   0   0]\n",
      " [  0   0   0   0   0   0   0   0   0   0]\n",
      " [  0   0   0   0   0  36   0   0   0   0]\n",
      " [  0   0   0   0   0   0   0   0  49   0]\n",
      " [  0   0   0   0   0   0   0   0   0   0]\n",
      " [  0   0   0  64   0   0   0   0   0   0]\n",
      " [  0   0   0   0   0   0   0   0   0   0]\n",
      " [ 81   0   0   0   0   0   0   0   0   0]\n",
      " [  0   0   0   0   0   0   0   0   0 100]]\n"
     ]
    }
   ],
   "source": [
    "Y = X\n",
    "inter = np.isin(Y, (np.array([1,4,9,16,36,49,64,81,100])))\n",
    "for i in range(10):\n",
    "    for j in range(10):\n",
    "        if inter[i][j] == False:\n",
    "                  Y[i][j] = 0\n",
    "print(Y)"
   ]
  },
  {
   "cell_type": "markdown",
   "metadata": {},
   "source": [
    "#### NP.5:\n",
    "\n",
    "Task: Use `np.tile()` to tile a 2x2 diagonal matrix of integers to make a checkerboard pattern. Call the matrix `checkers`\n",
    "\n",
    "Desired output: \n",
    "\n",
    "~~~\n",
    "[[1 0 1 0 1 0 1 0]\n",
    " [0 1 0 1 0 1 0 1]\n",
    " ...\n",
    " [1 0 1 0 1 0 1 0]\n",
    " [0 1 0 1 0 1 0 1]]\n",
    " ~~~"
   ]
  },
  {
   "cell_type": "code",
   "execution_count": 161,
   "metadata": {},
   "outputs": [
    {
     "name": "stdout",
     "output_type": "stream",
     "text": [
      "[[1 0]\n",
      " [0 1]]\n"
     ]
    }
   ],
   "source": [
    "pre = np.array([[1,0],[0,1]])\n",
    "checkers = np.tile(pre,1)\n",
    "print(checkers)"
   ]
  },
  {
   "cell_type": "markdown",
   "metadata": {},
   "source": [
    "#### NP.6:\n",
    "\n",
    "Task: convert the values in `f_temp` from Farenheit to celsius. The conversion is subtract 32, then multiply by 5/9. Round to 1 decimal place.\n",
    "\n",
    "Desired output: \n",
    "\n",
    "~~~\n",
    "[[21.1 21.7 22.2 22.8 23.3 23.9]\n",
    " ...\n",
    " [34.4 35.  35.6 36.1 36.7 37.2]]\n",
    "~~~"
   ]
  },
  {
   "cell_type": "code",
   "execution_count": 162,
   "metadata": {},
   "outputs": [
    {
     "name": "stdout",
     "output_type": "stream",
     "text": [
      "[[21.1 21.7 22.2 22.8 23.3 23.9]\n",
      " [24.4 25.  25.6 26.1 26.7 27.2]\n",
      " [27.8 28.3 28.9 29.4 30.  30.6]\n",
      " [31.1 31.7 32.2 32.8 33.3 33.9]\n",
      " [34.4 35.  35.6 36.1 36.7 37.2]]\n"
     ]
    }
   ],
   "source": [
    "# do not modify\n",
    "f_temp  = np.arange(70,100).reshape((5,6))\n",
    "temp_pre = (f_temp - 32) *(5/9)\n",
    "print(np.round(temp_pre,1))"
   ]
  },
  {
   "cell_type": "markdown",
   "metadata": {
    "tags": []
   },
   "source": [
    "#### NP.7:\n",
    "\n",
    "Task: Convert values in the matrix `x` into z-scores by column, call it matrix `z`. That is: each column should have a mean of 0 and std of 1. (subtract the column mean, and divide by the column std). (not required, but see if you can do this in one line)\n",
    "\n",
    "Print the column means and column std to show that they have been standardized.\n",
    "\n",
    "Desired output: \n",
    "\n",
    "~~~\n",
    "[[-1.09996745 -0.47901666  0.8816739 ]\n",
    " [ 0.9495002   1.18844641  0.11324252]\n",
    "...\n",
    " [-0.60705751 -1.08536687 -0.57430135]\n",
    " [-1.28156585 -0.81250928  1.52877401]]\n",
    " \n",
    " [ 6.66133815e-17  1.11022302e-16 -1.11022302e-16]\n",
    "[1. 1. 1.]\n",
    "~~~"
   ]
  },
  {
   "cell_type": "code",
   "execution_count": 133,
   "metadata": {},
   "outputs": [],
   "source": [
    "# do not modify\n",
    "np.random.seed(100)\n",
    "x = np.random.randint(100,size = 30).reshape(10,3)"
   ]
  },
  {
   "cell_type": "code",
   "execution_count": 141,
   "metadata": {},
   "outputs": [
    {
     "name": "stdout",
     "output_type": "stream",
     "text": [
      "[[-1.1296966  -0.64293325  0.66524324]\n",
      " [ 1.27369743  1.03031575  0.08721177]\n",
      " [-1.06885118  1.48665639  0.2089026 ]\n",
      " [ 1.60834723  0.23932531  0.63482053]\n",
      " [ 1.60834723 -0.94716035 -0.33870616]\n",
      " [-0.64293325 -0.91673764  0.45228428]\n",
      " [ 0.39143886 -0.88631493 -1.09927389]\n",
      " [ 1.45623368  1.24327472 -1.31223286]\n",
      " [-0.55166513 -1.25138744 -0.42997429]\n",
      " [-1.34265557 -0.97758306  1.15200659]]\n"
     ]
    }
   ],
   "source": [
    "meanx = np.mean(x) \n",
    "sdx = np.std(x)\n",
    "print((x-meanx)/ sdx)"
   ]
  },
  {
   "cell_type": "markdown",
   "metadata": {},
   "source": [
    "####  NP.8:\n",
    "\n",
    "Task: Convert values in the matrix `x` into scaled values from 0 to 10. That is take each column and scale values linearly so that the largest value is 10, and the smallest value in the column is 0. Round results to 2 decimal places. Call the result `y`\n",
    "\n",
    "(Not required, but see if you can do the calculations in one line.)\n",
    "\n",
    "Desired output: \n",
    "\n",
    "~~~\n",
    "[[ 0.72  2.22  8.02]\n",
    " [ 8.87  8.33  5.68]\n",
    "...\n",
    " [ 2.68  0.    3.58]\n",
    " [ 0.    1.   10.  ]]\n",
    " ~~~"
   ]
  },
  {
   "cell_type": "code",
   "execution_count": 127,
   "metadata": {},
   "outputs": [],
   "source": [
    "# do not modify\n",
    "np.random.seed(100)\n",
    "x = np.random.randint(100,size = 30).reshape(10,3)"
   ]
  },
  {
   "cell_type": "code",
   "execution_count": 132,
   "metadata": {},
   "outputs": [
    {
     "name": "stdout",
     "output_type": "stream",
     "text": [
      "[[0.8 2.4 6.7]\n",
      " [8.7 7.9 4.8]\n",
      " [1.  9.4 5.2]\n",
      " [9.8 5.3 6.6]\n",
      " [9.8 1.4 3.4]\n",
      " [2.4 1.5 6. ]\n",
      " [5.8 1.6 0.9]\n",
      " [9.3 8.6 0.2]\n",
      " [2.7 0.4 3.1]\n",
      " [0.1 1.3 8.3]]\n"
     ]
    }
   ],
   "source": [
    "x_pre = x/10\n",
    "print(np.round(x_pre,2))"
   ]
  },
  {
   "cell_type": "markdown",
   "metadata": {},
   "source": [
    "#### NP.9:\n",
    "\n",
    "Task: Replace all NaN values in the matrix `x` with 0.\n",
    "\n",
    "Desired output: \n",
    "\n",
    "~~~\n",
    "[[ 8. 24. 67.]\n",
    " [87. 79.  0.]\n",
    " [10.  0. 52.]\n",
    " [ 0. 53. 66.]]\n",
    "~~~"
   ]
  },
  {
   "cell_type": "code",
   "execution_count": 126,
   "metadata": {},
   "outputs": [
    {
     "name": "stdout",
     "output_type": "stream",
     "text": [
      "[[ 8. 24. 67.]\n",
      " [87. 79.  0.]\n",
      " [10.  0. 52.]\n",
      " [ 0. 53. 66.]]\n"
     ]
    }
   ],
   "source": [
    "# do not modify\n",
    "np.random.seed(100)\n",
    "x = np.random.randint(100,size = 12).reshape(4,3).astype('float')\n",
    "row = np.array([1, 2, 3])\n",
    "col = np.array([2, 1, 0])\n",
    "x[row, col] = np.nan\n",
    "\n",
    "x[row,col] = 0\n",
    "print(x)"
   ]
  }
 ],
 "metadata": {
  "kernelspec": {
   "display_name": "Python 3 (ipykernel)",
   "language": "python",
   "name": "python3"
  },
  "language_info": {
   "codemirror_mode": {
    "name": "ipython",
    "version": 3
   },
   "file_extension": ".py",
   "mimetype": "text/x-python",
   "name": "python",
   "nbconvert_exporter": "python",
   "pygments_lexer": "ipython3",
   "version": "3.9.7"
  }
 },
 "nbformat": 4,
 "nbformat_minor": 4
}
