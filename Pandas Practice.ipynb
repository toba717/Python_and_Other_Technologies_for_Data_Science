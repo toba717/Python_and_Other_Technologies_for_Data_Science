{
 "cells": [
  {
   "cell_type": "markdown",
   "metadata": {},
   "source": [
    "# Pandas Practice\n",
    "# Takao Oba\n",
    "\n",
    "\n",
    "Homework copyright Vivian Lew. Problems have been adapted from the exercises in Think Python 2nd Ed by Allen B. Downey.\n",
    "\n",
    "The questions have been entered into this document. You will modify the document by entering your code.\n",
    "\n",
    "Make sure you run the cell so the requested output is visible. Submit the finished document as an HTML file and also your ipynb."
   ]
  },
  {
   "cell_type": "markdown",
   "metadata": {},
   "source": [
    "### Introduction:\n",
    "\n",
    "- Let's look at some large data on Occupation\n",
    "- This is an extra from the American Community Survey in March 2020"
   ]
  },
  {
   "cell_type": "code",
   "execution_count": 1,
   "metadata": {},
   "outputs": [],
   "source": [
    "### Import the necessary libraries\n",
    "import pandas as pd\n",
    "import matplotlib.pyplot as plt"
   ]
  },
  {
   "cell_type": "code",
   "execution_count": 2,
   "metadata": {},
   "outputs": [
    {
     "name": "stderr",
     "output_type": "stream",
     "text": [
      "/Users/takaooba/anaconda3/lib/python3.9/site-packages/numpy/lib/arraysetops.py:583: FutureWarning: elementwise comparison failed; returning scalar instead, but in the future will perform elementwise comparison\n",
      "  mask |= (ar1 == a)\n"
     ]
    }
   ],
   "source": [
    "### Import the dataset HW11_12.csv\n",
    "### Assign it to a variable called users and use the 'ID' as index\n",
    "users = pd.read_csv(\"HW11_12.csv\", index_col='ID')"
   ]
  },
  {
   "cell_type": "code",
   "execution_count": 3,
   "metadata": {},
   "outputs": [
    {
     "data": {
      "text/html": [
       "<div>\n",
       "<style scoped>\n",
       "    .dataframe tbody tr th:only-of-type {\n",
       "        vertical-align: middle;\n",
       "    }\n",
       "\n",
       "    .dataframe tbody tr th {\n",
       "        vertical-align: top;\n",
       "    }\n",
       "\n",
       "    .dataframe thead th {\n",
       "        text-align: right;\n",
       "    }\n",
       "</style>\n",
       "<table border=\"1\" class=\"dataframe\">\n",
       "  <thead>\n",
       "    <tr style=\"text-align: right;\">\n",
       "      <th></th>\n",
       "      <th>AGEP</th>\n",
       "      <th>SEX</th>\n",
       "      <th>PUMA NAME</th>\n",
       "      <th>TITLE</th>\n",
       "    </tr>\n",
       "    <tr>\n",
       "      <th>ID</th>\n",
       "      <th></th>\n",
       "      <th></th>\n",
       "      <th></th>\n",
       "      <th></th>\n",
       "    </tr>\n",
       "  </thead>\n",
       "  <tbody>\n",
       "    <tr>\n",
       "      <th>1065415</th>\n",
       "      <td>35</td>\n",
       "      <td>1</td>\n",
       "      <td>San Diego County (Northwest)--Vista City</td>\n",
       "      <td>Unemployed, with no work experience in the las...</td>\n",
       "    </tr>\n",
       "    <tr>\n",
       "      <th>1065416</th>\n",
       "      <td>42</td>\n",
       "      <td>2</td>\n",
       "      <td>San Diego County (Central)--Lakeside, Winter G...</td>\n",
       "      <td>Unemployed, with no work experience in the las...</td>\n",
       "    </tr>\n",
       "    <tr>\n",
       "      <th>1065417</th>\n",
       "      <td>20</td>\n",
       "      <td>2</td>\n",
       "      <td>San Diego County (Southwest)--Chula Vista (Wes...</td>\n",
       "      <td>Unemployed, with no work experience in the las...</td>\n",
       "    </tr>\n",
       "    <tr>\n",
       "      <th>1065418</th>\n",
       "      <td>19</td>\n",
       "      <td>2</td>\n",
       "      <td>Fresno County (North Central)--Fresno City (No...</td>\n",
       "      <td>Unemployed, with no work experience in the las...</td>\n",
       "    </tr>\n",
       "    <tr>\n",
       "      <th>1065419</th>\n",
       "      <td>16</td>\n",
       "      <td>1</td>\n",
       "      <td>Los Angeles County (Southeast)--Long Beach (Ce...</td>\n",
       "      <td>Unemployed, with no work experience in the las...</td>\n",
       "    </tr>\n",
       "    <tr>\n",
       "      <th>1065420</th>\n",
       "      <td>18</td>\n",
       "      <td>1</td>\n",
       "      <td>Sacramento County (South)--Galt, Isleton Citie...</td>\n",
       "      <td>Unemployed, with no work experience in the las...</td>\n",
       "    </tr>\n",
       "    <tr>\n",
       "      <th>1065421</th>\n",
       "      <td>45</td>\n",
       "      <td>2</td>\n",
       "      <td>Los Angeles County (South Central)--Long Beach...</td>\n",
       "      <td>Unemployed, with no work experience in the las...</td>\n",
       "    </tr>\n",
       "    <tr>\n",
       "      <th>1065422</th>\n",
       "      <td>32</td>\n",
       "      <td>2</td>\n",
       "      <td>Fresno County (Central)--Fresno City (Southeast)</td>\n",
       "      <td>Unemployed, with no work experience in the las...</td>\n",
       "    </tr>\n",
       "    <tr>\n",
       "      <th>1065423</th>\n",
       "      <td>17</td>\n",
       "      <td>1</td>\n",
       "      <td>Merced County (Northeast)--Merced &amp; Atwater Ci...</td>\n",
       "      <td>Unemployed, with no work experience in the las...</td>\n",
       "    </tr>\n",
       "    <tr>\n",
       "      <th>1065424</th>\n",
       "      <td>30</td>\n",
       "      <td>2</td>\n",
       "      <td>Solano County (Southwest)--Vallejo &amp; Benicia C...</td>\n",
       "      <td>Unemployed, with no work experience in the las...</td>\n",
       "    </tr>\n",
       "  </tbody>\n",
       "</table>\n",
       "</div>"
      ],
      "text/plain": [
       "         AGEP  SEX                                          PUMA NAME  \\\n",
       "ID                                                                      \n",
       "1065415    35    1           San Diego County (Northwest)--Vista City   \n",
       "1065416    42    2  San Diego County (Central)--Lakeside, Winter G...   \n",
       "1065417    20    2  San Diego County (Southwest)--Chula Vista (Wes...   \n",
       "1065418    19    2  Fresno County (North Central)--Fresno City (No...   \n",
       "1065419    16    1  Los Angeles County (Southeast)--Long Beach (Ce...   \n",
       "1065420    18    1  Sacramento County (South)--Galt, Isleton Citie...   \n",
       "1065421    45    2  Los Angeles County (South Central)--Long Beach...   \n",
       "1065422    32    2   Fresno County (Central)--Fresno City (Southeast)   \n",
       "1065423    17    1  Merced County (Northeast)--Merced & Atwater Ci...   \n",
       "1065424    30    2  Solano County (Southwest)--Vallejo & Benicia C...   \n",
       "\n",
       "                                                     TITLE  \n",
       "ID                                                          \n",
       "1065415  Unemployed, with no work experience in the las...  \n",
       "1065416  Unemployed, with no work experience in the las...  \n",
       "1065417  Unemployed, with no work experience in the las...  \n",
       "1065418  Unemployed, with no work experience in the las...  \n",
       "1065419  Unemployed, with no work experience in the las...  \n",
       "1065420  Unemployed, with no work experience in the las...  \n",
       "1065421  Unemployed, with no work experience in the las...  \n",
       "1065422  Unemployed, with no work experience in the las...  \n",
       "1065423  Unemployed, with no work experience in the las...  \n",
       "1065424  Unemployed, with no work experience in the las...  "
      ]
     },
     "execution_count": 3,
     "metadata": {},
     "output_type": "execute_result"
    }
   ],
   "source": [
    "# Problem 1. Display the last 10 entries. (done for you)\n",
    "users.tail(10)"
   ]
  },
  {
   "cell_type": "code",
   "execution_count": 13,
   "metadata": {},
   "outputs": [
    {
     "name": "stdout",
     "output_type": "stream",
     "text": [
      "The number of observations in the data is: 1065424\n",
      "The number of columns in the data is: 4\n"
     ]
    }
   ],
   "source": [
    "# Problem 2. How many observations and columns are in the data?\n",
    "observations = len(users)\n",
    "numcolumns = len(users.columns)\n",
    "print(\"The number of observations in the data is: \" + str(observations))\n",
    "print(\"The number of columns in the data is: \" + str(numcolumns))"
   ]
  },
  {
   "cell_type": "code",
   "execution_count": 14,
   "metadata": {},
   "outputs": [
    {
     "name": "stdout",
     "output_type": "stream",
     "text": [
      "The number of different occupations there are in this dataset is: 530\n"
     ]
    }
   ],
   "source": [
    "# Problem 3. How many different occupations there are in this dataset?\n",
    "dif_ocup = len(users[\"TITLE\"].unique())\n",
    "print(\"The number of different occupations there are in this dataset is: \" + str(dif_ocup))"
   ]
  },
  {
   "cell_type": "code",
   "execution_count": 19,
   "metadata": {},
   "outputs": [
    {
     "name": "stdout",
     "output_type": "stream",
     "text": [
      "The most frequent occupation is other managers\n"
     ]
    }
   ],
   "source": [
    "# Problem 4. What is the most frequent occupation?\n",
    "users[\"TITLE\"].mode()\n",
    "print(\"The most frequent occupation is other managers\")"
   ]
  },
  {
   "cell_type": "code",
   "execution_count": 40,
   "metadata": {},
   "outputs": [
    {
     "name": "stdout",
     "output_type": "stream",
     "text": [
      "The 3 occupations with the lowest mean age are\n",
      "TITLE\n",
      "Other protective service workers                                                      23.056576\n",
      "Military enlisted tactical operations and air/weapons specialists and crew members    23.750333\n",
      "Hosts and hostesses, restaurant, lounge, and coffee shop                              25.506550\n",
      "Name: AGEP, dtype: float64\n",
      "The 3 occupations with the highest mean age are\n",
      "TITLE\n",
      "Crossing guards and flaggers    55.479339\n",
      "Travel agents                   55.954407\n",
      "Tool and die makers             57.162963\n",
      "Name: AGEP, dtype: float64\n"
     ]
    }
   ],
   "source": [
    "# Problem 5. Discover what is the mean age per occupation.\n",
    "# Sort the results and find the 3 occupations with the lowest mean age and the 3 with the highest\n",
    "inter_var = users.groupby(\"TITLE\").AGEP.mean()\n",
    "print(\"The 3 occupations with the lowest mean age are\")\n",
    "print(inter_var.sort_values().head(3))\n",
    "print(\"The 3 occupations with the highest mean age are\")\n",
    "print(inter_var.sort_values().tail(3))"
   ]
  },
  {
   "cell_type": "code",
   "execution_count": 172,
   "metadata": {},
   "outputs": [
    {
     "name": "stdout",
     "output_type": "stream",
     "text": [
      "TITLE\n",
      "Boilermakers                                                     1.000000\n",
      "Rail-track laying and maintenance equipment operators            1.000000\n",
      "Tire builders                                                    1.000000\n",
      "Small engine mechanics                                           0.994624\n",
      "Cement masons, concrete finishers, and terrazzo workers          0.994253\n",
      "                                                                   ...   \n",
      "Executive secretaries and executive administrative assistants    0.074559\n",
      "Dental hygienists                                                0.069656\n",
      "Speech-language pathologists                                     0.059499\n",
      "Preschool and kindergarten teachers                              0.034561\n",
      "Skincare specialists                                             0.012251\n",
      "Name: SEX, Length: 530, dtype: float64\n"
     ]
    }
   ],
   "source": [
    "# Problem 6. Find the proportion of males by occupation and sort it from the most to the least\n",
    "numerator=users.groupby([\"TITLE\",\"SEX\"]).SEX.count()\n",
    "denominator=users.groupby(\"TITLE\").SEX.count()\n",
    "fraction_values = numerator/denominator\n",
    "inter_var = fraction_values.xs(1,level=1)\n",
    "print(inter_var.sort_values(ascending = False))"
   ]
  },
  {
   "cell_type": "code",
   "execution_count": 176,
   "metadata": {},
   "outputs": [
    {
     "name": "stdout",
     "output_type": "stream",
     "text": [
      "The Maximum age for each occupation are\n",
      "TITLE\n",
      "Accountants and auditors                                              94\n",
      "Actors                                                                94\n",
      "Actuaries                                                             88\n",
      "Acupuncturists                                                        85\n",
      "Adhesive bonding machine operators and tenders                        71\n",
      "                                                                      ..\n",
      "Welding, soldering, and brazing workers                               90\n",
      "Wholesale and retail buyers, except farm products                     94\n",
      "Woodworking machine setters, operators, and tenders, except sawing    70\n",
      "Word processors and typists                                           94\n",
      "Writers and authors                                                   94\n",
      "Name: AGEP, Length: 530, dtype: int64\n",
      "The Minimum age for each occupation are\n",
      "TITLE\n",
      "Accountants and auditors                                              17\n",
      "Actors                                                                16\n",
      "Actuaries                                                             22\n",
      "Acupuncturists                                                        26\n",
      "Adhesive bonding machine operators and tenders                        21\n",
      "                                                                      ..\n",
      "Welding, soldering, and brazing workers                               16\n",
      "Wholesale and retail buyers, except farm products                     16\n",
      "Woodworking machine setters, operators, and tenders, except sawing    19\n",
      "Word processors and typists                                           16\n",
      "Writers and authors                                                   16\n",
      "Name: AGEP, Length: 530, dtype: int64\n"
     ]
    }
   ],
   "source": [
    "# Problem 7. For each occupation, calculate the minimum and maximum ages\n",
    "# See groupby and agg() to perform multiple aggregate functions at once\n",
    "print(\"The Maximum age for each occupation are\")\n",
    "print(users.groupby(\"TITLE\").AGEP.max())\n",
    "print(\"The Minimum age for each occupation are\")\n",
    "print(users.groupby(\"TITLE\").AGEP.min())"
   ]
  },
  {
   "cell_type": "code",
   "execution_count": 210,
   "metadata": {},
   "outputs": [
    {
     "name": "stdout",
     "output_type": "stream",
     "text": [
      "SEX                                                         1          2\n",
      "TITLE                                                                   \n",
      "Other protective service workers                    24.052163  21.695652\n",
      "Explosives workers, ordnance handling experts, ...  30.490000  22.200000\n",
      "Umpires, referees, and other sports officials       31.322767  23.493671\n",
      "Military enlisted tactical operations and air/w...  23.722720  23.975610\n",
      "Hosts and hostesses, restaurant, lounge, and co...  27.007673  25.155090\n",
      "...                                                       ...        ...\n",
      "Small engine mechanics                              45.697297  66.000000\n",
      "Underground mining machine operators                45.931034  68.666667\n",
      "Boilermakers                                        45.763158        NaN\n",
      "Rail-track laying and maintenance equipment ope...  47.458333        NaN\n",
      "Tire builders                                       41.923077        NaN\n",
      "\n",
      "[530 rows x 2 columns]\n"
     ]
    }
   ],
   "source": [
    "# Problem 8. For each combination of occupation and gender, calculate the mean age.\n",
    "# Arrange the results in a table so each row is an occupation, and you have a \n",
    "# column of the average male age and another column with the average female age.\n",
    "# Sort the resulting table by Female mean age from least to greatest\n",
    "out = users[\"AGEP\"].groupby([users[\"TITLE\"],users[\"SEX\"]]).mean()\n",
    "print(out.unstack().sort_values(2))"
   ]
  },
  {
   "cell_type": "code",
   "execution_count": 213,
   "metadata": {},
   "outputs": [
    {
     "data": {
      "text/html": [
       "<div>\n",
       "<style scoped>\n",
       "    .dataframe tbody tr th:only-of-type {\n",
       "        vertical-align: middle;\n",
       "    }\n",
       "\n",
       "    .dataframe tbody tr th {\n",
       "        vertical-align: top;\n",
       "    }\n",
       "\n",
       "    .dataframe thead th {\n",
       "        text-align: right;\n",
       "    }\n",
       "</style>\n",
       "<table border=\"1\" class=\"dataframe\">\n",
       "  <thead>\n",
       "    <tr style=\"text-align: right;\">\n",
       "      <th>SEX</th>\n",
       "      <th>1</th>\n",
       "      <th>2</th>\n",
       "    </tr>\n",
       "    <tr>\n",
       "      <th>TITLE</th>\n",
       "      <th></th>\n",
       "      <th></th>\n",
       "    </tr>\n",
       "  </thead>\n",
       "  <tbody>\n",
       "    <tr>\n",
       "      <th>Accountants and auditors</th>\n",
       "      <td>0.368003</td>\n",
       "      <td>0.631997</td>\n",
       "    </tr>\n",
       "    <tr>\n",
       "      <th>Actors</th>\n",
       "      <td>0.512769</td>\n",
       "      <td>0.487231</td>\n",
       "    </tr>\n",
       "    <tr>\n",
       "      <th>Actuaries</th>\n",
       "      <td>0.600000</td>\n",
       "      <td>0.400000</td>\n",
       "    </tr>\n",
       "    <tr>\n",
       "      <th>Acupuncturists</th>\n",
       "      <td>0.413284</td>\n",
       "      <td>0.586716</td>\n",
       "    </tr>\n",
       "    <tr>\n",
       "      <th>Adhesive bonding machine operators and tenders</th>\n",
       "      <td>0.781250</td>\n",
       "      <td>0.218750</td>\n",
       "    </tr>\n",
       "    <tr>\n",
       "      <th>...</th>\n",
       "      <td>...</td>\n",
       "      <td>...</td>\n",
       "    </tr>\n",
       "    <tr>\n",
       "      <th>Welding, soldering, and brazing workers</th>\n",
       "      <td>0.944606</td>\n",
       "      <td>0.055394</td>\n",
       "    </tr>\n",
       "    <tr>\n",
       "      <th>Wholesale and retail buyers, except farm products</th>\n",
       "      <td>0.420671</td>\n",
       "      <td>0.579329</td>\n",
       "    </tr>\n",
       "    <tr>\n",
       "      <th>Woodworking machine setters, operators, and tenders, except sawing</th>\n",
       "      <td>0.867647</td>\n",
       "      <td>0.132353</td>\n",
       "    </tr>\n",
       "    <tr>\n",
       "      <th>Word processors and typists</th>\n",
       "      <td>0.204790</td>\n",
       "      <td>0.795210</td>\n",
       "    </tr>\n",
       "    <tr>\n",
       "      <th>Writers and authors</th>\n",
       "      <td>0.460764</td>\n",
       "      <td>0.539236</td>\n",
       "    </tr>\n",
       "  </tbody>\n",
       "</table>\n",
       "<p>530 rows × 2 columns</p>\n",
       "</div>"
      ],
      "text/plain": [
       "SEX                                                        1         2\n",
       "TITLE                                                                 \n",
       "Accountants and auditors                            0.368003  0.631997\n",
       "Actors                                              0.512769  0.487231\n",
       "Actuaries                                           0.600000  0.400000\n",
       "Acupuncturists                                      0.413284  0.586716\n",
       "Adhesive bonding machine operators and tenders      0.781250  0.218750\n",
       "...                                                      ...       ...\n",
       "Welding, soldering, and brazing workers             0.944606  0.055394\n",
       "Wholesale and retail buyers, except farm products   0.420671  0.579329\n",
       "Woodworking machine setters, operators, and ten...  0.867647  0.132353\n",
       "Word processors and typists                         0.204790  0.795210\n",
       "Writers and authors                                 0.460764  0.539236\n",
       "\n",
       "[530 rows x 2 columns]"
      ]
     },
     "execution_count": 215,
     "metadata": {},
     "output_type": "execute_result"
    }
   ],
   "source": [
    "# Problem 9. For each occupation find the count of women and men\n",
    "# Arrange the results in a table so each row is an occupation, similar to above\n",
    "out = users[\"SEX\"].groupby(users[\"TITLE\"]).value_counts()\n",
    "out.unstack()"
   ]
  },
  {
   "cell_type": "code",
   "execution_count": 217,
   "metadata": {},
   "outputs": [
    {
     "name": "stdout",
     "output_type": "stream",
     "text": [
      "SEX                                                        1         2\n",
      "TITLE                                                                 \n",
      "Accountants and auditors                            0.368003  0.631997\n",
      "Actors                                              0.512769  0.487231\n",
      "Actuaries                                           0.600000  0.400000\n",
      "Acupuncturists                                      0.413284  0.586716\n",
      "Adhesive bonding machine operators and tenders      0.781250  0.218750\n",
      "...                                                      ...       ...\n",
      "Welding, soldering, and brazing workers             0.944606  0.055394\n",
      "Wholesale and retail buyers, except farm products   0.420671  0.579329\n",
      "Woodworking machine setters, operators, and ten...  0.867647  0.132353\n",
      "Word processors and typists                         0.204790  0.795210\n",
      "Writers and authors                                 0.460764  0.539236\n",
      "\n",
      "[530 rows x 2 columns]\n"
     ]
    }
   ],
   "source": [
    "# Problem 10. Turn the counts above into proportions. e.g administrator 0.455696 0.544304\n",
    "# Arrange results in increasing order of proportion men\n",
    "out = users[\"SEX\"].groupby(users[\"TITLE\"]).value_counts(\"F\")\n",
    "print(out.unstack())"
   ]
  },
  {
   "cell_type": "code",
   "execution_count": 198,
   "metadata": {},
   "outputs": [
    {
     "name": "stdout",
     "output_type": "stream",
     "text": [
      "    AGEP  SEX                                       PUMA NAME  \\\n",
      "ID                                                              \n",
      "1     33    1  Orange County (Central)--Irvine City (Central)   \n",
      "6     55    1  Orange County (Central)--Irvine City (Central)   \n",
      "28    68    1                          Napa County--Napa City   \n",
      "39    66    1  Orange County (Central)--Irvine City (Central)   \n",
      "52    78    1                     Shasta County--Redding City   \n",
      "\n",
      "                               TITLE  \n",
      "ID                                    \n",
      "1   Chief executives and legislators  \n",
      "6   Chief executives and legislators  \n",
      "28  Chief executives and legislators  \n",
      "39  Chief executives and legislators  \n",
      "52  Chief executives and legislators  \n"
     ]
    }
   ],
   "source": [
    "# Choose 5 different geographies of interest to you\n",
    "# and create a subset of just the geographies you selected\n",
    "# print the first 5 rows of the result\n",
    "users[\"PUMA NAME\"].unique()\n",
    "# Orange County (Central)--Irvine City (Central)\n",
    "# Napa County--Napa City\n",
    "# Shasta County--Redding City\n",
    "# Lake & Mendocino Counties\n",
    "# El Dorado County--El Dorado Hills\n",
    "\n",
    "intervar = users[(users[\"PUMA NAME\"] == \"Orange County (Central)--Irvine City (Central)\") | (users[\"PUMA NAME\"] == \"Napa County--Napa City\") | (users[\"PUMA NAME\"] == \"Shasta County--Redding City\") | (users[\"PUMA NAME\"] == \"Lake & Mendocino Counties\") | (users[\"PUMA NAME\"] == \"El Dorado County--El Dorado Hills\")]\n",
    "print(intervar.head(5))\n"
   ]
  },
  {
   "cell_type": "code",
   "execution_count": 201,
   "metadata": {},
   "outputs": [
    {
     "data": {
      "text/plain": [
       "PUMA NAME\n",
       "Alameda County (Central)--Hayward City                                  43.521739\n",
       "Alameda County (East)--Livermore, Pleasanton & Dublin Cities            48.158730\n",
       "Alameda County (North Central)--Castro Valley, San Lorenzo & Ashland    44.337838\n",
       "Alameda County (North Central)--Oakland City (South Central)            47.681818\n",
       "Alameda County (North)--Berkeley & Albany Cities                        48.415094\n",
       "                                                                          ...    \n",
       "Ventura County (Southeast)--Simi Valley City                            45.182927\n",
       "Ventura County (Southeast)--Thousand Oaks City                          52.714286\n",
       "Ventura County (Southwest)--Oxnard & Port Hueneme Cities                48.389831\n",
       "Ventura County (Southwest)--San Buenaventura (Ventura) City             52.660377\n",
       "Yolo County--Davis, Woodland & West Sacramento Cities                   50.642857\n",
       "Name: AGEP, Length: 265, dtype: float64"
      ]
     },
     "execution_count": 201,
     "metadata": {},
     "output_type": "execute_result"
    }
   ],
   "source": [
    "# for the occupation 'Registered nurses', find the mean age of each region\n",
    "users[users[\"TITLE\"] == \"Registered nurses\"].groupby(\"PUMA NAME\").AGEP.mean()"
   ]
  }
 ],
 "metadata": {
  "kernelspec": {
   "display_name": "Python 3 (ipykernel)",
   "language": "python",
   "name": "python3"
  },
  "language_info": {
   "codemirror_mode": {
    "name": "ipython",
    "version": 3
   },
   "file_extension": ".py",
   "mimetype": "text/x-python",
   "name": "python",
   "nbconvert_exporter": "python",
   "pygments_lexer": "ipython3",
   "version": "3.9.7"
  }
 },
 "nbformat": 4,
 "nbformat_minor": 4
}
