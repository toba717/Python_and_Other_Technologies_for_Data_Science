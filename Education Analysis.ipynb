{
 "cells": [
  {
   "cell_type": "markdown",
   "metadata": {},
   "source": [
    "# Education Analysis\n",
    "# Takao Oba"
   ]
  },
  {
   "cell_type": "markdown",
   "metadata": {},
   "source": [
    "The questions have been entered into this document. You will modify the document by entering your code.\n",
    "\n",
    "Make sure you run the cell so the requested output is visible. Please download the finished document as an HTML file.\n",
    "\n",
    "**Homework is an opportunity to practice coding and to practice problem solving. Doing exercises is where you will do most of your learning.**\n",
    "\n",
    "**Copying someone else's solutions takes away your learning opportunities. It is also academic dishonesty.**"
   ]
  },
  {
   "cell_type": "code",
   "execution_count": 1,
   "metadata": {},
   "outputs": [],
   "source": [
    "import pandas as pd"
   ]
  },
  {
   "cell_type": "markdown",
   "metadata": {},
   "source": [
    "## Introduction\n",
    "\n",
    "The data were taken from https://nces.ed.gov/programs/digest/d21/tables/dt21_104.20.asp but cleaned up for you.\n"
   ]
  },
  {
   "cell_type": "markdown",
   "metadata": {},
   "source": [
    "## Data\n",
    "\n",
    "This is a quick read to give you an idea of the data.  Part of the homework will be to read more carefully"
   ]
  },
  {
   "cell_type": "code",
   "execution_count": 2,
   "metadata": {},
   "outputs": [
    {
     "data": {
      "text/plain": [
       "<bound method NDFrame.describe of      Year Gender Minimum Degree      Total  White  Black  Hispanic  Asian  \\\n",
       "0    1920      B    high school        NaN   22.0    6.3       NaN    NaN   \n",
       "1    1940      B    high school  38.100000   41.2   12.3       NaN    NaN   \n",
       "2    1950      B    high school  52.800000   56.3   23.6       NaN    NaN   \n",
       "3    1960      B    high school  60.700000   63.7   38.6       NaN    NaN   \n",
       "4    1970      B    high school  75.400000   77.8   58.4       NaN    NaN   \n",
       "..    ...    ...            ...        ...    ...    ...       ...    ...   \n",
       "245  2017      F       master's  10.500000   11.8    6.8       5.0   25.8   \n",
       "246  2018      F       master's  10.700000   12.6    6.2       3.8   29.9   \n",
       "247  2019      F       master's  11.200000   12.6    8.5       4.6   27.5   \n",
       "248  2020      F       master's  11.700000   13.3    7.3       5.9   28.1   \n",
       "249  2021      F       master's  11.704513   13.8    6.5       5.6   27.6   \n",
       "\n",
       "     Pacific Islander  American Indian/\\nAlaska Native   Two or more races  \n",
       "0                 NaN                               NaN                NaN  \n",
       "1                 NaN                               NaN                NaN  \n",
       "2                 NaN                               NaN                NaN  \n",
       "3                 NaN                               NaN                NaN  \n",
       "4                 NaN                               NaN                NaN  \n",
       "..                ...                               ...                ...  \n",
       "245               NaN                               NaN                5.4  \n",
       "246               NaN                               NaN                NaN  \n",
       "247               NaN                               NaN                9.1  \n",
       "248               NaN                               NaN               10.2  \n",
       "249               NaN                               NaN               13.1  \n",
       "\n",
       "[250 rows x 11 columns]>"
      ]
     },
     "execution_count": 2,
     "metadata": {},
     "output_type": "execute_result"
    }
   ],
   "source": [
    "data = pd.read_csv(\"tabn104.20_mod.csv\")\n",
    "data.describe"
   ]
  },
  {
   "cell_type": "markdown",
   "metadata": {},
   "source": [
    "## Description of the Data\n",
    "\n",
    "- Year: The year this row represents. There is more than one row for some of the years. They have the percent  by gender.\n",
    "- Gender: \"F\" for female, \"M\" for male, or \"B\" for combined M/F.\n",
    "- Minimum degree:  \"high school\", \"associate's\", \"bachelor's\", or \"master's\".\n",
    "- Total: The total percent of students to reach at least the minimum level of educational attainment in that year.\n",
    "- White / Black / Hispanic / Asian / Pacific Islander / American Indian or Alaska Native / Two or more races: The percent of students of this race to reach at least the minimum level of educational attainment in that year."
   ]
  },
  {
   "cell_type": "markdown",
   "metadata": {
    "tags": []
   },
   "source": [
    "## Problem 1\n",
    "\n",
    "Correctly read the data from the CSV file using pandas. Note that the file uses blanks represent missing data make sure all of the missing are correctly read as NaN. You do NOT need to set a datetime index or any other index for this. "
   ]
  },
  {
   "cell_type": "code",
   "execution_count": 8,
   "metadata": {},
   "outputs": [
    {
     "data": {
      "text/html": [
       "<div>\n",
       "<style scoped>\n",
       "    .dataframe tbody tr th:only-of-type {\n",
       "        vertical-align: middle;\n",
       "    }\n",
       "\n",
       "    .dataframe tbody tr th {\n",
       "        vertical-align: top;\n",
       "    }\n",
       "\n",
       "    .dataframe thead th {\n",
       "        text-align: right;\n",
       "    }\n",
       "</style>\n",
       "<table border=\"1\" class=\"dataframe\">\n",
       "  <thead>\n",
       "    <tr style=\"text-align: right;\">\n",
       "      <th></th>\n",
       "      <th>Year</th>\n",
       "      <th>Gender</th>\n",
       "      <th>Minimum Degree</th>\n",
       "      <th>Total</th>\n",
       "      <th>White</th>\n",
       "      <th>Black</th>\n",
       "      <th>Hispanic</th>\n",
       "      <th>Asian</th>\n",
       "      <th>Pacific Islander</th>\n",
       "      <th>American Indian/\\nAlaska Native</th>\n",
       "      <th>Two or more races</th>\n",
       "    </tr>\n",
       "  </thead>\n",
       "  <tbody>\n",
       "    <tr>\n",
       "      <th>0</th>\n",
       "      <td>1920</td>\n",
       "      <td>B</td>\n",
       "      <td>high school</td>\n",
       "      <td>NaN</td>\n",
       "      <td>22.0</td>\n",
       "      <td>6.3</td>\n",
       "      <td>NaN</td>\n",
       "      <td>NaN</td>\n",
       "      <td>NaN</td>\n",
       "      <td>NaN</td>\n",
       "      <td>NaN</td>\n",
       "    </tr>\n",
       "    <tr>\n",
       "      <th>1</th>\n",
       "      <td>1940</td>\n",
       "      <td>B</td>\n",
       "      <td>high school</td>\n",
       "      <td>38.1</td>\n",
       "      <td>41.2</td>\n",
       "      <td>12.3</td>\n",
       "      <td>NaN</td>\n",
       "      <td>NaN</td>\n",
       "      <td>NaN</td>\n",
       "      <td>NaN</td>\n",
       "      <td>NaN</td>\n",
       "    </tr>\n",
       "    <tr>\n",
       "      <th>2</th>\n",
       "      <td>1950</td>\n",
       "      <td>B</td>\n",
       "      <td>high school</td>\n",
       "      <td>52.8</td>\n",
       "      <td>56.3</td>\n",
       "      <td>23.6</td>\n",
       "      <td>NaN</td>\n",
       "      <td>NaN</td>\n",
       "      <td>NaN</td>\n",
       "      <td>NaN</td>\n",
       "      <td>NaN</td>\n",
       "    </tr>\n",
       "    <tr>\n",
       "      <th>3</th>\n",
       "      <td>1960</td>\n",
       "      <td>B</td>\n",
       "      <td>high school</td>\n",
       "      <td>60.7</td>\n",
       "      <td>63.7</td>\n",
       "      <td>38.6</td>\n",
       "      <td>NaN</td>\n",
       "      <td>NaN</td>\n",
       "      <td>NaN</td>\n",
       "      <td>NaN</td>\n",
       "      <td>NaN</td>\n",
       "    </tr>\n",
       "    <tr>\n",
       "      <th>4</th>\n",
       "      <td>1970</td>\n",
       "      <td>B</td>\n",
       "      <td>high school</td>\n",
       "      <td>75.4</td>\n",
       "      <td>77.8</td>\n",
       "      <td>58.4</td>\n",
       "      <td>NaN</td>\n",
       "      <td>NaN</td>\n",
       "      <td>NaN</td>\n",
       "      <td>NaN</td>\n",
       "      <td>NaN</td>\n",
       "    </tr>\n",
       "  </tbody>\n",
       "</table>\n",
       "</div>"
      ],
      "text/plain": [
       "   Year Gender Minimum Degree  Total  White  Black  Hispanic  Asian  \\\n",
       "0  1920      B    high school    NaN   22.0    6.3       NaN    NaN   \n",
       "1  1940      B    high school   38.1   41.2   12.3       NaN    NaN   \n",
       "2  1950      B    high school   52.8   56.3   23.6       NaN    NaN   \n",
       "3  1960      B    high school   60.7   63.7   38.6       NaN    NaN   \n",
       "4  1970      B    high school   75.4   77.8   58.4       NaN    NaN   \n",
       "\n",
       "   Pacific Islander  American Indian/\\nAlaska Native   Two or more races  \n",
       "0               NaN                               NaN                NaN  \n",
       "1               NaN                               NaN                NaN  \n",
       "2               NaN                               NaN                NaN  \n",
       "3               NaN                               NaN                NaN  \n",
       "4               NaN                               NaN                NaN  "
      ]
     },
     "execution_count": 8,
     "metadata": {},
     "output_type": "execute_result"
    }
   ],
   "source": [
    "data = pd.read_csv(\"tabn104.20_mod.csv\")\n",
    "data.head()"
   ]
  },
  {
   "cell_type": "markdown",
   "metadata": {},
   "source": [
    "## Problem 2: compare_babs_1980\n",
    "\n",
    "What were the percentages for women vs. men with a minimum level Bachelor's Degree in 1980? \n",
    "\n",
    "Please write a little function compare_babs_1980 and return the result as a DataFrame with a row for men and a row for women with the columns \"Sex\" and \"Total\".\n",
    "\n",
    "For example, compare_babs_1980(data) should return the following (it's OK if the order of the rows or your index values are not the same)"
   ]
  },
  {
   "cell_type": "code",
   "execution_count": 48,
   "metadata": {},
   "outputs": [
    {
     "name": "stdout",
     "output_type": "stream",
     "text": [
      "Gender  Minimum Degree\n",
      "B       bachelor's        26\n",
      "F       bachelor's        21\n",
      "M       bachelor's        21\n",
      "Name: Minimum Degree, dtype: int64\n"
     ]
    }
   ],
   "source": [
    "def compare_babs_1980(x):\n",
    "    inter_var = x[x[\"Minimum Degree\"] == \"bachelor's\"]\n",
    "    out = inter_var[\"Minimum Degree\"].groupby(inter_var[\"Gender\"]).value_counts()\n",
    "    print(out)\n",
    "    \n",
    "compare_babs_1980(data)"
   ]
  },
  {
   "cell_type": "code",
   "execution_count": 3,
   "metadata": {},
   "outputs": [
    {
     "data": {
      "text/html": [
       "<div>\n",
       "<style scoped>\n",
       "    .dataframe tbody tr th:only-of-type {\n",
       "        vertical-align: middle;\n",
       "    }\n",
       "\n",
       "    .dataframe tbody tr th {\n",
       "        vertical-align: top;\n",
       "    }\n",
       "\n",
       "    .dataframe thead th {\n",
       "        text-align: right;\n",
       "    }\n",
       "</style>\n",
       "<table border=\"1\" class=\"dataframe\">\n",
       "  <thead>\n",
       "    <tr style=\"text-align: right;\">\n",
       "      <th></th>\n",
       "      <th>Gender</th>\n",
       "      <th>Total</th>\n",
       "    </tr>\n",
       "  </thead>\n",
       "  <tbody>\n",
       "    <tr>\n",
       "      <th>130</th>\n",
       "      <td>M</td>\n",
       "      <td>24.0</td>\n",
       "    </tr>\n",
       "    <tr>\n",
       "      <th>210</th>\n",
       "      <td>F</td>\n",
       "      <td>21.0</td>\n",
       "    </tr>\n",
       "  </tbody>\n",
       "</table>\n",
       "</div>"
      ],
      "text/plain": [
       "    Gender  Total\n",
       "130      M   24.0\n",
       "210      F   21.0"
      ]
     },
     "execution_count": 3,
     "metadata": {},
     "output_type": "execute_result"
    }
   ],
   "source": [
    "data.iloc[[130, 210], [1,3]]"
   ]
  },
  {
   "cell_type": "markdown",
   "metadata": {},
   "source": [
    "## Problem 3: top_2010s\n",
    "\n",
    "What were the top percentage for each level of educational attainment between 2010-2020 (inclusive)? \n",
    "\n",
    "You should use only the rows for 'B' (both) and only the Total (not by race). Call your function top_2010s and return a Series with the top values along with their degree names.\n",
    "\n",
    "So for example, your output should look something like:\n",
    "\n",
    "```\n",
    "high school    94.8  \n",
    "associate      50.0                       \n",
    "bachelor's     39.2 \n",
    "master's       9.4\n",
    "```\n",
    "\n",
    "It's OK if they do not line up nicely also do not worry about ties. If you want, give priority to the most recent year.\n"
   ]
  },
  {
   "cell_type": "code",
   "execution_count": 50,
   "metadata": {},
   "outputs": [
    {
     "name": "stdout",
     "output_type": "stream",
     "text": [
      "Minimum Degree\n",
      "associate      50.0\n",
      "bachelor's     39.2\n",
      "high school    94.8\n",
      "master's        9.5\n",
      "Name: Total, dtype: float64\n"
     ]
    }
   ],
   "source": [
    "def top_2010s(x):\n",
    "    inter_var = x[x[\"Gender\"] == \"B\"]\n",
    "    out = inter_var[\"Total\"].groupby(inter_var[\"Minimum Degree\"]).max()\n",
    "    print(out)\n",
    "\n",
    "top_2010s(data)"
   ]
  },
  {
   "cell_type": "markdown",
   "metadata": {},
   "source": [
    "## Problem 4: percent_change_bachelors\n",
    "\n",
    "What is the percentage change of bachelor's degrees received in 2000 as compared to 2020? Write a little function that incorporates gender so a user can specify 'M', 'F', or 'B'. If  the user does not specify the gender, your function should return the percent change for 'B' by default. Name it percent_change_bachelors and return the difference as a float.\n",
    "\n",
    "For this problem you might want to use the squeeze() function on a Series to get a single value from a Series of length 1."
   ]
  },
  {
   "cell_type": "code",
   "execution_count": 88,
   "metadata": {},
   "outputs": [
    {
     "name": "stdout",
     "output_type": "stream",
     "text": [
      "The percentage change of bachelor's degrees received in 2000 compared to 2020 is 124.37275985663084%.\n"
     ]
    }
   ],
   "source": [
    "def percent_change_bachelors(x, gender = \"B\"):\n",
    "    inter_var_2000 = x[x[\"Year\"] == 2000]\n",
    "    inter_var_2020 = x[x[\"Year\"] == 2020]\n",
    "    \n",
    "    if gender == \"M\":\n",
    "        inter_var2_2000 = inter_var_2000[inter_var_2000[\"Gender\"] == \"M\"]\n",
    "        inter_var2_2020 = inter_var_2020[inter_var_2020[\"Gender\"] == \"M\"]\n",
    "    elif gender == \"F\":\n",
    "        inter_var2_2000 = inter_var_2000[inter_var_2000[\"Gender\"] == \"F\"]\n",
    "        inter_var2_2020 = inter_var_2020[inter_var_2020[\"Gender\"] == \"F\"]\n",
    "    else:\n",
    "        inter_var2_2000 = inter_var_2000[inter_var_2000[\"Gender\"] == \"B\"]\n",
    "        inter_var2_2020 = inter_var_2020[inter_var_2020[\"Gender\"] == \"B\"]\n",
    "        \n",
    "    inter_var3_2000 = inter_var2_2000[inter_var2_2000[\"Minimum Degree\"] == \"bachelor's\"]\n",
    "    inter_var3_2020 = inter_var2_2020[inter_var2_2020[\"Minimum Degree\"] == \"bachelor's\"]\n",
    "    \n",
    "    print(\"The percentage change of bachelor's degrees received in 2000 compared to 2020 is \" + str((inter_var3_2020[\"Total\"].squeeze()/inter_var3_2000[\"Total\"].squeeze())*100) + \"%.\")\n",
    "  \n",
    "\n",
    "percent_change_bachelors(data, gender = \"M\")"
   ]
  },
  {
   "cell_type": "markdown",
   "metadata": {},
   "source": [
    "## Problem 5: Make a line graph\n",
    "\n",
    "Plot the total percentages of bachelor's degree as minimal completion with a line chart over the years availablee.\n",
    "\n",
    "You should filter to rows where gender is 'B'. Label the x-axis \"Year\", the y-axis \"Percentage\", and title the plot \"Percentage Earning Bachelor's\".  Make sure your graph displays in your HTML submission\n",
    "\n"
   ]
  },
  {
   "cell_type": "code",
   "execution_count": 94,
   "metadata": {},
   "outputs": [
    {
     "data": {
      "text/plain": [
       "Text(0, 0.5, 'Percentage')"
      ]
     },
     "execution_count": 94,
     "metadata": {},
     "output_type": "execute_result"
    },
    {
     "data": {
      "image/png": "[encoded data removed]",
      "text/plain": [
       "<Figure size 432x288 with 1 Axes>"
      ]
     },
     "metadata": {
      "needs_background": "light"
     },
     "output_type": "display_data"
    }
   ],
   "source": [
    "import matplotlib.pyplot as plt\n",
    "from matplotlib.pyplot import figure\n",
    "import matplotlib.colors as mcolors\n",
    "inter_var = data[data[\"Gender\"] == \"B\"]\n",
    "inter_var2 = inter_var[inter_var[\"Minimum Degree\"] == \"bachelor's\"]\n",
    "plt.plot(inter_var2[\"Year\"], inter_var2[\"Total\"])\n",
    "plt.title(\"Percentage Earning Bachelor's\")\n",
    "plt.xlabel(\"Year\")\n",
    "plt.ylabel(\"Percentage\")"
   ]
  },
  {
   "cell_type": "markdown",
   "metadata": {},
   "source": [
    "## Problem 6: Your choice of a custom plot\n",
    "\n",
    "Decide how you will plot the results of how the percent of Black and Hispanic origin people with bachelor's degrees has changed between 1990 and 2010 (inclusive) with a plot of your choosing. You do not need to use every year in the dataset but should have at least the endpoints (1990, 2010).\n",
    "\n",
    "Make sure you label your axes with descriptive names and give a title to the graphic. Make sure your graph displays in your HTML submission\n",
    "\n",
    "Please write a few sentences telling us about your decision of graphic type.  For example, suppose you decide to use a bar chart, we would like to know your justification, like \"Oh, I thought it would be easy for anyone to understand because the heights of the bars...\""
   ]
  },
  {
   "cell_type": "code",
   "execution_count": 120,
   "metadata": {},
   "outputs": [
    {
     "name": "stderr",
     "output_type": "stream",
     "text": [
      "/Users/takaooba/anaconda3/lib/python3.9/site-packages/seaborn/_decorators.py:36: FutureWarning: Pass the following variables as keyword args: x, y. From version 0.12, the only valid positional argument will be `data`, and passing other arguments without an explicit keyword will result in an error or misinterpretation.\n",
      "  warnings.warn(\n",
      "/Users/takaooba/anaconda3/lib/python3.9/site-packages/seaborn/_decorators.py:36: FutureWarning: Pass the following variables as keyword args: x, y. From version 0.12, the only valid positional argument will be `data`, and passing other arguments without an explicit keyword will result in an error or misinterpretation.\n",
      "  warnings.warn(\n"
     ]
    },
    {
     "data": {
      "text/plain": [
       "Text(0, 0.5, 'Percentage')"
      ]
     },
     "execution_count": 120,
     "metadata": {},
     "output_type": "execute_result"
    },
    {
     "data": {
      "image/png": "[encoded data removed]",
      "text/plain": [
       "<Figure size 432x288 with 1 Axes>"
      ]
     },
     "metadata": {
      "needs_background": "light"
     },
     "output_type": "display_data"
    }
   ],
   "source": [
    "import seaborn as sns\n",
    "\n",
    "inter_var = data[data[\"Minimum Degree\"] == \"bachelor's\"]\n",
    "plot = sns.scatterplot(inter_var[\"Year\"], inter_var[\"Hispanic\"])\n",
    "sns.scatterplot(inter_var[\"Year\"], inter_var[\"Black\"])\n",
    "plot.set_xlim(1989, 2010.5)\n",
    "plot.set_title(\"Percentage change of Black and Hispanic people with Bachelor's Degrees\")\n",
    "plot.set_ylabel(\"Percentage\")"
   ]
  },
  {
   "cell_type": "markdown",
   "metadata": {},
   "source": [
    "I chose this plot so that the readers can vividly see the difference between the trends in the two color points. For example, the blue dots that represents the individuals with hispanic origin is significantly less for all years compared to the black people. The scatterplot clearly indicates trends in the data as well."
   ]
  }
 ],
 "metadata": {
  "kernelspec": {
   "display_name": "Python 3 (ipykernel)",
   "language": "python",
   "name": "python3"
  },
  "language_info": {
   "codemirror_mode": {
    "name": "ipython",
    "version": 3
   },
   "file_extension": ".py",
   "mimetype": "text/x-python",
   "name": "python",
   "nbconvert_exporter": "python",
   "pygments_lexer": "ipython3",
   "version": "3.9.7"
  }
 },
 "nbformat": 4,
 "nbformat_minor": 4
}
