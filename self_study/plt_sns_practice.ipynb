{
 "cells": [
  {
   "cell_type": "markdown",
   "id": "1408e27e-b9ae-43ae-9d30-629f36d901d0",
   "metadata": {},
   "source": [
    "Introduction:"
   ]
  },
  {
   "cell_type": "markdown",
   "id": "e66e4aba-a4cf-4b17-8e92-f42b754479c7",
   "metadata": {},
   "source": [
    "There are many components that one must consider when purchasing a car. As different individuals vary different components of the car, some may have very distinct preferences compared to others. For example, if one's sole reason to buy a car is to move from point A to point B as cost efficient as possible, the main component they will be looking at is the mpg or miles per gallon and the amount of mileage the car has. However, if one is a car enthusiast, they may care more about the engine size and will tend to prefer manual transition cars so they have greater control of the car. Additionally, when purchasing a used car, there could be other components that influence the consumers when purchasing the product. There are significantly less options to choose from regarding the colors or the model, and the price range will be substantially lower, which may allow the consumers to go to a more luxurious model. "
   ]
  },
  {
   "cell_type": "markdown",
   "id": "a3e8d855-9538-4a85-ab43-11a95a998a1a",
   "metadata": {},
   "source": [
    "First, we must place packages into our current invironment. Next, we will import the data so that we can conduct our analysis. "
   ]
  },
  {
   "cell_type": "code",
   "execution_count": 36,
   "id": "865eb7ab-93fd-42c0-84bb-5ef32593f499",
   "metadata": {},
   "outputs": [
    {
     "data": {
      "text/html": [
       "<div>\n",
       "<style scoped>\n",
       "    .dataframe tbody tr th:only-of-type {\n",
       "        vertical-align: middle;\n",
       "    }\n",
       "\n",
       "    .dataframe tbody tr th {\n",
       "        vertical-align: top;\n",
       "    }\n",
       "\n",
       "    .dataframe thead th {\n",
       "        text-align: right;\n",
       "    }\n",
       "</style>\n",
       "<table border=\"1\" class=\"dataframe\">\n",
       "  <thead>\n",
       "    <tr style=\"text-align: right;\">\n",
       "      <th></th>\n",
       "      <th>model</th>\n",
       "      <th>year</th>\n",
       "      <th>price</th>\n",
       "      <th>transmission</th>\n",
       "      <th>mileage</th>\n",
       "      <th>fuelType</th>\n",
       "      <th>tax</th>\n",
       "      <th>mpg</th>\n",
       "      <th>engineSize</th>\n",
       "    </tr>\n",
       "  </thead>\n",
       "  <tbody>\n",
       "    <tr>\n",
       "      <th>0</th>\n",
       "      <td>Fiesta</td>\n",
       "      <td>2017</td>\n",
       "      <td>12000</td>\n",
       "      <td>Automatic</td>\n",
       "      <td>15944</td>\n",
       "      <td>Petrol</td>\n",
       "      <td>150</td>\n",
       "      <td>57.7</td>\n",
       "      <td>1.0</td>\n",
       "    </tr>\n",
       "    <tr>\n",
       "      <th>1</th>\n",
       "      <td>Focus</td>\n",
       "      <td>2018</td>\n",
       "      <td>14000</td>\n",
       "      <td>Manual</td>\n",
       "      <td>9083</td>\n",
       "      <td>Petrol</td>\n",
       "      <td>150</td>\n",
       "      <td>57.7</td>\n",
       "      <td>1.0</td>\n",
       "    </tr>\n",
       "    <tr>\n",
       "      <th>2</th>\n",
       "      <td>Focus</td>\n",
       "      <td>2017</td>\n",
       "      <td>13000</td>\n",
       "      <td>Manual</td>\n",
       "      <td>12456</td>\n",
       "      <td>Petrol</td>\n",
       "      <td>150</td>\n",
       "      <td>57.7</td>\n",
       "      <td>1.0</td>\n",
       "    </tr>\n",
       "    <tr>\n",
       "      <th>3</th>\n",
       "      <td>Fiesta</td>\n",
       "      <td>2019</td>\n",
       "      <td>17500</td>\n",
       "      <td>Manual</td>\n",
       "      <td>10460</td>\n",
       "      <td>Petrol</td>\n",
       "      <td>145</td>\n",
       "      <td>40.3</td>\n",
       "      <td>1.5</td>\n",
       "    </tr>\n",
       "    <tr>\n",
       "      <th>4</th>\n",
       "      <td>Fiesta</td>\n",
       "      <td>2019</td>\n",
       "      <td>16500</td>\n",
       "      <td>Automatic</td>\n",
       "      <td>1482</td>\n",
       "      <td>Petrol</td>\n",
       "      <td>145</td>\n",
       "      <td>48.7</td>\n",
       "      <td>1.0</td>\n",
       "    </tr>\n",
       "    <tr>\n",
       "      <th>...</th>\n",
       "      <td>...</td>\n",
       "      <td>...</td>\n",
       "      <td>...</td>\n",
       "      <td>...</td>\n",
       "      <td>...</td>\n",
       "      <td>...</td>\n",
       "      <td>...</td>\n",
       "      <td>...</td>\n",
       "      <td>...</td>\n",
       "    </tr>\n",
       "    <tr>\n",
       "      <th>17961</th>\n",
       "      <td>B-MAX</td>\n",
       "      <td>2017</td>\n",
       "      <td>8999</td>\n",
       "      <td>Manual</td>\n",
       "      <td>16700</td>\n",
       "      <td>Petrol</td>\n",
       "      <td>150</td>\n",
       "      <td>47.1</td>\n",
       "      <td>1.4</td>\n",
       "    </tr>\n",
       "    <tr>\n",
       "      <th>17962</th>\n",
       "      <td>B-MAX</td>\n",
       "      <td>2014</td>\n",
       "      <td>7499</td>\n",
       "      <td>Manual</td>\n",
       "      <td>40700</td>\n",
       "      <td>Petrol</td>\n",
       "      <td>30</td>\n",
       "      <td>57.7</td>\n",
       "      <td>1.0</td>\n",
       "    </tr>\n",
       "    <tr>\n",
       "      <th>17963</th>\n",
       "      <td>Focus</td>\n",
       "      <td>2015</td>\n",
       "      <td>9999</td>\n",
       "      <td>Manual</td>\n",
       "      <td>7010</td>\n",
       "      <td>Diesel</td>\n",
       "      <td>20</td>\n",
       "      <td>67.3</td>\n",
       "      <td>1.6</td>\n",
       "    </tr>\n",
       "    <tr>\n",
       "      <th>17964</th>\n",
       "      <td>KA</td>\n",
       "      <td>2018</td>\n",
       "      <td>8299</td>\n",
       "      <td>Manual</td>\n",
       "      <td>5007</td>\n",
       "      <td>Petrol</td>\n",
       "      <td>145</td>\n",
       "      <td>57.7</td>\n",
       "      <td>1.2</td>\n",
       "    </tr>\n",
       "    <tr>\n",
       "      <th>17965</th>\n",
       "      <td>Focus</td>\n",
       "      <td>2015</td>\n",
       "      <td>8299</td>\n",
       "      <td>Manual</td>\n",
       "      <td>5007</td>\n",
       "      <td>Petrol</td>\n",
       "      <td>22</td>\n",
       "      <td>57.7</td>\n",
       "      <td>1.0</td>\n",
       "    </tr>\n",
       "  </tbody>\n",
       "</table>\n",
       "<p>17966 rows × 9 columns</p>\n",
       "</div>"
      ],
      "text/plain": [
       "         model  year  price transmission  mileage fuelType  tax   mpg  \\\n",
       "0       Fiesta  2017  12000    Automatic    15944   Petrol  150  57.7   \n",
       "1        Focus  2018  14000       Manual     9083   Petrol  150  57.7   \n",
       "2        Focus  2017  13000       Manual    12456   Petrol  150  57.7   \n",
       "3       Fiesta  2019  17500       Manual    10460   Petrol  145  40.3   \n",
       "4       Fiesta  2019  16500    Automatic     1482   Petrol  145  48.7   \n",
       "...        ...   ...    ...          ...      ...      ...  ...   ...   \n",
       "17961    B-MAX  2017   8999       Manual    16700   Petrol  150  47.1   \n",
       "17962    B-MAX  2014   7499       Manual    40700   Petrol   30  57.7   \n",
       "17963    Focus  2015   9999       Manual     7010   Diesel   20  67.3   \n",
       "17964       KA  2018   8299       Manual     5007   Petrol  145  57.7   \n",
       "17965    Focus  2015   8299       Manual     5007   Petrol   22  57.7   \n",
       "\n",
       "       engineSize  \n",
       "0             1.0  \n",
       "1             1.0  \n",
       "2             1.0  \n",
       "3             1.5  \n",
       "4             1.0  \n",
       "...           ...  \n",
       "17961         1.4  \n",
       "17962         1.0  \n",
       "17963         1.6  \n",
       "17964         1.2  \n",
       "17965         1.0  \n",
       "\n",
       "[17966 rows x 9 columns]"
      ]
     },
     "execution_count": 36,
     "metadata": {},
     "output_type": "execute_result"
    }
   ],
   "source": [
    "import pandas as pd\n",
    "import matplotlib.pyplot as plt\n",
    "import seaborn as sns\n",
    "\n",
    "url = \"https://raw.githubusercontent.com/PokeBowen/FordProject/main/ford.csv\"\n",
    "df = pd.read_csv(url)\n",
    "df"
   ]
  },
  {
   "cell_type": "markdown",
   "id": "9eecbb09-e72b-44f1-bcc6-db7a6c03b241",
   "metadata": {},
   "source": [
    "We want to identify the specifics about the data, so we will have a better understanding with our data before drawing conclusions"
   ]
  },
  {
   "cell_type": "code",
   "execution_count": 4,
   "id": "b8e38c4d-892a-41c8-8b34-91af2c4e843d",
   "metadata": {},
   "outputs": [
    {
     "data": {
      "text/plain": [
       "model            object\n",
       "year              int64\n",
       "price             int64\n",
       "transmission     object\n",
       "mileage           int64\n",
       "fuelType         object\n",
       "tax               int64\n",
       "mpg             float64\n",
       "engineSize      float64\n",
       "dtype: object"
      ]
     },
     "execution_count": 4,
     "metadata": {},
     "output_type": "execute_result"
    }
   ],
   "source": [
    "df.dtypes"
   ]
  },
  {
   "cell_type": "code",
   "execution_count": 19,
   "id": "039d3fff-d46c-4232-b6a7-0a964b731dc7",
   "metadata": {},
   "outputs": [
    {
     "data": {
      "text/plain": [
       "2017    4888\n",
       "2018    4014\n",
       "2019    3194\n",
       "2016    2331\n",
       "2015    1368\n",
       "2014     805\n",
       "2013     609\n",
       "2020     258\n",
       "2012     115\n",
       "2011      94\n",
       "2009      91\n",
       "2010      67\n",
       "2008      57\n",
       "2007      32\n",
       "2005      16\n",
       "2006      13\n",
       "2004       4\n",
       "2002       3\n",
       "2003       3\n",
       "1998       1\n",
       "1996       1\n",
       "2000       1\n",
       "2060       1\n",
       "Name: year, dtype: int64"
      ]
     },
     "execution_count": 19,
     "metadata": {},
     "output_type": "execute_result"
    }
   ],
   "source": [
    "df[\"year\"].value_counts()"
   ]
  },
  {
   "cell_type": "markdown",
   "id": "50105462-6a71-429d-83ac-00ba38511cb3",
   "metadata": {},
   "source": [
    "We notice that the frequency based on the years increases as the time increases. This indicates a right skewness for the years. We also notice that there is one observation with the year 2060. We will have to cleanse this point since this was probably a mistake or typo when inputting the data. "
   ]
  },
  {
   "cell_type": "code",
   "execution_count": 38,
   "id": "c8fd6b39-c421-403b-b2e4-a90a9aa5daa6",
   "metadata": {},
   "outputs": [
    {
     "data": {
      "text/plain": [
       "2020"
      ]
     },
     "execution_count": 38,
     "metadata": {},
     "output_type": "execute_result"
    }
   ],
   "source": [
    "df = df[(df[\"year\"] != 2060)]\n",
    "max(df[\"year\"])"
   ]
  },
  {
   "cell_type": "code",
   "execution_count": 39,
   "id": "13594f96-4520-4379-8849-73d561082f0d",
   "metadata": {},
   "outputs": [
    {
     "data": {
      "image/png": "[encoded data removed]",
      "text/plain": [
       "<Figure size 864x432 with 1 Axes>"
      ]
     },
     "metadata": {
      "needs_background": "light"
     },
     "output_type": "display_data"
    }
   ],
   "source": [
    "sns.displot(data = df, x = \"year\", height = 6, aspect = 12/6);"
   ]
  },
  {
   "cell_type": "code",
   "execution_count": 27,
   "id": "400344ce-dbc1-4147-b904-02f183bf2244",
   "metadata": {},
   "outputs": [
    {
     "data": {
      "text/plain": [
       " Fiesta                   6556\n",
       " Focus                    4588\n",
       " Kuga                     2225\n",
       " EcoSport                 1143\n",
       " C-MAX                     543\n",
       " Ka+                       531\n",
       " Mondeo                    526\n",
       " B-MAX                     355\n",
       " S-MAX                     296\n",
       " Grand C-MAX               247\n",
       " Galaxy                    228\n",
       " Edge                      208\n",
       " KA                        199\n",
       " Puma                       80\n",
       " Tourneo Custom             69\n",
       " Grand Tourneo Connect      59\n",
       " Mustang                    57\n",
       " Tourneo Connect            33\n",
       " Fusion                     16\n",
       " Streetka                    2\n",
       " Ranger                      1\n",
       " Escort                      1\n",
       " Transit Tourneo             1\n",
       "Focus                        1\n",
       "Name: model, dtype: int64"
      ]
     },
     "execution_count": 27,
     "metadata": {},
     "output_type": "execute_result"
    }
   ],
   "source": [
    "df[\"model\"].value_counts()"
   ]
  },
  {
   "cell_type": "markdown",
   "id": "8b02bb7a-98cb-418e-9cbb-1ab2d621a918",
   "metadata": {},
   "source": [
    "Notice that some models are prevalent from years ago, some are relatively new models, and some even were discontinued. For example, the Ford Fiesta with the greatest frequency out of all was introduced to the United States in 2011, but was discontinued in 2019. Additionally, some models that are included in this data are very old models that barely made the cutoff for this data. The Ford Escort is an example; this car began its production in 1968 and ended in 2003. "
   ]
  },
  {
   "cell_type": "code",
   "execution_count": 33,
   "id": "45b01254-4001-4b7f-9fe3-b0249c6e319d",
   "metadata": {},
   "outputs": [
    {
     "data": {
      "text/plain": [
       "model            engineSize\n",
       " Fiesta          1.0           4266\n",
       " Focus           1.0           2178\n",
       " Kuga            2.0           1358\n",
       " Focus           1.5           1233\n",
       " Fiesta          1.2            917\n",
       " EcoSport        1.0            870\n",
       " Kuga            1.5            843\n",
       " Focus           2.0            755\n",
       " Fiesta          1.1            559\n",
       " Ka+             1.2            526\n",
       " Fiesta          1.5            425\n",
       " Mondeo          2.0            397\n",
       " Focus           1.6            331\n",
       " Fiesta          1.6            308\n",
       " EcoSport        1.5            265\n",
       " S-MAX           2.0            262\n",
       " C-MAX           1.5            252\n",
       " Galaxy          2.0            211\n",
       " Edge            2.0            208\n",
       " KA              1.2            183\n",
       " C-MAX           1.0            157\n",
       " B-MAX           1.0            144\n",
       " Grand C-MAX     1.5            134\n",
       " B-MAX           1.6            113\n",
       " Mondeo          1.5            103\n",
       " C-MAX           1.6             92\n",
       " Puma            1.0             77\n",
       " Grand C-MAX     1.0             71\n",
       " Tourneo Custom  2.0             66\n",
       " Focus           2.3             64\n",
       "dtype: int64"
      ]
     },
     "execution_count": 33,
     "metadata": {},
     "output_type": "execute_result"
    }
   ],
   "source": [
    "df[[\"model\", \"engineSize\"]].value_counts().head(30)"
   ]
  },
  {
   "cell_type": "code",
   "execution_count": 56,
   "id": "fecf7e15-b6f0-4168-b5eb-7017a7e3e22f",
   "metadata": {},
   "outputs": [
    {
     "data": {
      "text/plain": [
       "model             engineSize\n",
       " Galaxy           1.6           5\n",
       " Focus            2.5           5\n",
       " Galaxy           1.8           5\n",
       "                  1.5           5\n",
       " Mondeo           2.2           4\n",
       " Ka+              0.0           4\n",
       " S-MAX            2.2           4\n",
       " Fiesta           1.3           3\n",
       " Tourneo Custom   2.2           3\n",
       " Tourneo Connect  1.6           3\n",
       " Streetka         1.6           2\n",
       " S-MAX            1.8           2\n",
       "                  2.3           1\n",
       " Transit Tourneo  2.2           1\n",
       " Escort           1.8           1\n",
       " Tourneo Connect  1.0           1\n",
       " Galaxy           2.3           1\n",
       " Ranger           3.2           1\n",
       " Puma             1.7           1\n",
       "                  1.6           1\n",
       "                  0.0           1\n",
       " Mondeo           5.0           1\n",
       "                  2.3           1\n",
       " Galaxy           2.2           1\n",
       " Fiesta           2.0           1\n",
       " Mondeo           0.0           1\n",
       " Focus            1.4           1\n",
       " Kuga             0.0           1\n",
       " Ka+              1.5           1\n",
       "Focus             1.0           1\n",
       "dtype: int64"
      ]
     },
     "execution_count": 56,
     "metadata": {},
     "output_type": "execute_result"
    }
   ],
   "source": [
    "df[[\"model\", \"engineSize\"]].value_counts().tail(30)"
   ]
  },
  {
   "cell_type": "markdown",
   "id": "73b80813-b4b8-4b96-9930-6683c043549d",
   "metadata": {},
   "source": [
    "Overall, the engine size seems to be fairly small for all of the cars in this dataset. In the next graph, we compare the engine size of the car to the production year to see if the car gets more powerful as years pass and society experiences technological advancements."
   ]
  },
  {
   "cell_type": "code",
   "execution_count": 66,
   "id": "2c1e380e-c79e-4be9-90df-40cd54ea5564",
   "metadata": {},
   "outputs": [
    {
     "data": {
      "text/plain": [
       "Text(0.5, 6.79999999999999, 'Year')"
      ]
     },
     "execution_count": 66,
     "metadata": {},
     "output_type": "execute_result"
    },
    {
     "data": {
      "image/png": "[encoded data removed]",
      "text/plain": [
       "<Figure size 360x360 with 1 Axes>"
      ]
     },
     "metadata": {
      "needs_background": "light"
     },
     "output_type": "display_data"
    }
   ],
   "source": [
    "sns.displot(data = df, x = \"year\", y = \"engineSize\")\n",
    "plt.title(\"Engine Size vs Year\")\n",
    "plt.ylabel(\"Engine Size\")\n",
    "plt.xlabel(\"Year\")"
   ]
  },
  {
   "cell_type": "markdown",
   "id": "b60b8233-98e5-4fd3-aaac-989db407d711",
   "metadata": {},
   "source": [
    "As seen in the graph above, as years pass, the variability of the engine size increases. This may be an indication of the car production companies to satisfy the needs of various customers. For example, car enthusiasts may prefer loud and powerful cars with a big engine. However, those who wants a small compact car because they get car sick from the sudden acceleration may prefer a very weak car engine. "
   ]
  },
  {
   "cell_type": "markdown",
   "id": "95f843bc-7140-47bf-82cb-f3fca981e2ec",
   "metadata": {},
   "source": [
    "Now, we will look at the transmissions of the car:"
   ]
  },
  {
   "cell_type": "code",
   "execution_count": 51,
   "id": "16581717-2381-41c3-b08d-2066319944aa",
   "metadata": {},
   "outputs": [
    {
     "data": {
      "text/plain": [
       "Manual       15518\n",
       "Automatic     1360\n",
       "Semi-Auto     1087\n",
       "Name: transmission, dtype: int64"
      ]
     },
     "execution_count": 51,
     "metadata": {},
     "output_type": "execute_result"
    }
   ],
   "source": [
    "df[\"transmission\"].value_counts()"
   ]
  },
  {
   "cell_type": "markdown",
   "id": "06f7a1bc-a664-4796-9551-5c0800c9eeb2",
   "metadata": {},
   "source": [
    "This number can be counterintuitive since technological advancements have yielded the production of manual cars. Currently, only approximately 13 percent of the cars in the market is even offered a manual transmission. We would expect that the number of automatic and semi-automatic cars will follow the same way, but in this dataset, there is significantly more cars with manual transmission. We will assess if the production years of the car has any relationship to the type of transmission."
   ]
  },
  {
   "cell_type": "code",
   "execution_count": 67,
   "id": "9b71ebf8-223e-4b07-95f0-477d57ad504d",
   "metadata": {},
   "outputs": [
    {
     "data": {
      "text/plain": [
       "Text(0.5, 1.0, 'Transmission by Years')"
      ]
     },
     "execution_count": 67,
     "metadata": {},
     "output_type": "execute_result"
    },
    {
     "data": {
      "image/png": "[encoded data removed]",
      "text/plain": [
       "<Figure size 447.375x360 with 1 Axes>"
      ]
     },
     "metadata": {
      "needs_background": "light"
     },
     "output_type": "display_data"
    }
   ],
   "source": [
    "sns.displot(data = df, x = \"year\", hue = \"transmission\")\n",
    "plt.title(\"Transmission by Years\")"
   ]
  },
  {
   "cell_type": "markdown",
   "id": "93d755fd-e3a4-4e90-bae1-c2bdbe052218",
   "metadata": {},
   "source": [
    "As we can see in the graph above, the amount of cars with manual transmission is not decreasing as time increases. Perhaps, the population that this sample was obtained may have been car enthusiasts or those who have a specific niche attraction to manual cars. "
   ]
  }
 ],
 "metadata": {
  "kernelspec": {
   "display_name": "Python 3 (ipykernel)",
   "language": "python",
   "name": "python3"
  },
  "language_info": {
   "codemirror_mode": {
    "name": "ipython",
    "version": 3
   },
   "file_extension": ".py",
   "mimetype": "text/x-python",
   "name": "python",
   "nbconvert_exporter": "python",
   "pygments_lexer": "ipython3",
   "version": "3.9.7"
  }
 },
 "nbformat": 4,
 "nbformat_minor": 5
}
