{
 "cells": [
  {
   "cell_type": "code",
   "execution_count": 2,
   "id": "c51ccbd6-3611-4b45-a90d-a27779a95a67",
   "metadata": {},
   "outputs": [],
   "source": [
    "import numpy as np\n",
    "def powerup(i):\n",
    "    if i == 1:\n",
    "        return 1\n",
    "    else:\n",
    "        return np.square(i) + powerup(i-1)"
   ]
  },
  {
   "cell_type": "code",
   "execution_count": 3,
   "id": "19bb5578-6e88-4b59-9114-a146f6bc30e8",
   "metadata": {},
   "outputs": [
    {
     "data": {
      "text/plain": [
       "30"
      ]
     },
     "execution_count": 3,
     "metadata": {},
     "output_type": "execute_result"
    }
   ],
   "source": [
    "powerup(4)"
   ]
  },
  {
   "cell_type": "code",
   "execution_count": 4,
   "id": "29ea6195-70a0-4458-bf13-f1192f7a941a",
   "metadata": {},
   "outputs": [],
   "source": [
    "def great(a,b):\n",
    "    while a != 0 and b != 0:\n",
    "        if a > b:\n",
    "            a = a-b\n",
    "        else: \n",
    "            b = b -a\n",
    "        return max(a,b)"
   ]
  },
  {
   "cell_type": "code",
   "execution_count": 5,
   "id": "9ed8345f-202f-41bc-95be-decf409979eb",
   "metadata": {},
   "outputs": [
    {
     "data": {
      "text/plain": [
       "21"
      ]
     },
     "execution_count": 5,
     "metadata": {},
     "output_type": "execute_result"
    }
   ],
   "source": [
    "great(21, 35)"
   ]
  },
  {
   "cell_type": "code",
   "execution_count": 6,
   "id": "08981962-9430-4dc2-a31e-1205a59dce0e",
   "metadata": {},
   "outputs": [
    {
     "name": "stdout",
     "output_type": "stream",
     "text": [
      "34\n"
     ]
    }
   ],
   "source": [
    "j = 1\n",
    "k = 2\n",
    "for i in range(3):\n",
    "    j += k\n",
    "    k += j\n",
    "print(k)"
   ]
  },
  {
   "cell_type": "code",
   "execution_count": 7,
   "id": "15251eeb-0f61-45f3-988b-8c76becaf919",
   "metadata": {},
   "outputs": [
    {
     "name": "stdout",
     "output_type": "stream",
     "text": [
      "adef\n"
     ]
    }
   ],
   "source": [
    "strings = [\"a\", \"bc\", \"def\", \"ghij\"]\n",
    "output = \"\"\n",
    "for x in strings:\n",
    "    if len(x) % 2 == 0:\n",
    "        continue\n",
    "    output += x\n",
    "print(output)"
   ]
  },
  {
   "cell_type": "code",
   "execution_count": 9,
   "id": "653b6eaf-0bbe-4af4-842b-9e3462f18ff9",
   "metadata": {},
   "outputs": [],
   "source": [
    "def even(start, n):\n",
    "    # write your code here\n",
    "    out = []\n",
    "    for i in range (n):\n",
    "        out.append(start + 2*i)\n",
    "    return out"
   ]
  },
  {
   "cell_type": "code",
   "execution_count": null,
   "id": "7b85996a-146d-4678-b0a0-3367a5bed2c0",
   "metadata": {},
   "outputs": [],
   "source": []
  },
  {
   "cell_type": "code",
   "execution_count": null,
   "id": "1e6f9a7a-879e-45c7-affb-c55204afab37",
   "metadata": {},
   "outputs": [],
   "source": []
  },
  {
   "cell_type": "code",
   "execution_count": 11,
   "id": "0d4869d0-1424-4b5c-b03a-e95c4018a374",
   "metadata": {},
   "outputs": [
    {
     "data": {
      "text/plain": [
       "[4, 6, 8, 10]"
      ]
     },
     "execution_count": 11,
     "metadata": {},
     "output_type": "execute_result"
    }
   ],
   "source": [
    "even(4,4)"
   ]
  },
  {
   "cell_type": "code",
   "execution_count": null,
   "id": "88306650-a335-43df-8854-18d4aad33f06",
   "metadata": {},
   "outputs": [],
   "source": []
  },
  {
   "cell_type": "code",
   "execution_count": null,
   "id": "c778ef47-f576-406f-9958-ccc76dcbd026",
   "metadata": {},
   "outputs": [],
   "source": []
  },
  {
   "cell_type": "code",
   "execution_count": null,
   "id": "eb8e1a1b-e03d-479c-976f-36502609071e",
   "metadata": {},
   "outputs": [],
   "source": []
  },
  {
   "cell_type": "code",
   "execution_count": null,
   "id": "c4771490-cb4d-45ba-93e7-f6dd527e9c81",
   "metadata": {},
   "outputs": [],
   "source": []
  }
 ],
 "metadata": {
  "kernelspec": {
   "display_name": "Python 3 (ipykernel)",
   "language": "python",
   "name": "python3"
  },
  "language_info": {
   "codemirror_mode": {
    "name": "ipython",
    "version": 3
   },
   "file_extension": ".py",
   "mimetype": "text/x-python",
   "name": "python",
   "nbconvert_exporter": "python",
   "pygments_lexer": "ipython3",
   "version": "3.9.7"
  }
 },
 "nbformat": 4,
 "nbformat_minor": 5
}

