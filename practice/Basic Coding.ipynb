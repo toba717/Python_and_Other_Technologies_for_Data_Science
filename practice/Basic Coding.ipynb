{
 "cells": [
  {
   "cell_type": "markdown",
   "id": "f7a91ec1",
   "metadata": {},
   "source": [
    "## Q1. Write a python code to count the number of even elements in a list"
   ]
  },
  {
   "cell_type": "code",
   "execution_count": 1,
   "id": "4c15198d",
   "metadata": {},
   "outputs": [],
   "source": [
    "my_list_1 = [252, 9, 258, 220, 249, 83, 195, 298, 228, 67, 233, 133, 280, 96, 53, 204, \n",
    "            247, 268, 115, 127, 215, 214, 221, 275, 224, 36, 292, 145, 150, 17, 93, \n",
    "            292, 206, 229, 189, 41, 246, 279, 158, 161, 90, 47, 195, 137, 171, 5, \n",
    "            206, 106, 58, 226, 140, 6, 29, 277, 192, 47, 296, 90, 19, 290, 235, 229, \n",
    "            26, 8, 220, 168, 294, 238, 138, 150, 13, 143, 209, 102, 192, 2, 140, 6, 99, 189\n",
    "            ]\n"
   ]
  },
  {
   "cell_type": "code",
   "execution_count": 4,
   "id": "e803ff67",
   "metadata": {},
   "outputs": [
    {
     "name": "stdout",
     "output_type": "stream",
     "text": [
      "42\n"
     ]
    }
   ],
   "source": [
    "#Using a for loop\n",
    "out = 0\n",
    "for x in my_list_1: \n",
    "    if x%2 == 0 :\n",
    "        out += 1\n",
    "print(out)"
   ]
  },
  {
   "cell_type": "code",
   "execution_count": 13,
   "id": "16ffbe43",
   "metadata": {},
   "outputs": [
    {
     "data": {
      "text/plain": [
       "42"
      ]
     },
     "execution_count": 13,
     "metadata": {},
     "output_type": "execute_result"
    }
   ],
   "source": [
    "#Using a list comprehension\n",
    "len([i for i in my_list_1 if i%2 == 0])"
   ]
  },
  {
   "cell_type": "code",
   "execution_count": 15,
   "id": "177a9b7d-7e60-4fc3-8cdc-0966eeb1f905",
   "metadata": {},
   "outputs": [
    {
     "data": {
      "text/plain": [
       "[252,\n",
       " 258,\n",
       " 220,\n",
       " 298,\n",
       " 228,\n",
       " 280,\n",
       " 96,\n",
       " 204,\n",
       " 268,\n",
       " 214,\n",
       " 224,\n",
       " 36,\n",
       " 292,\n",
       " 150,\n",
       " 292,\n",
       " 206,\n",
       " 246,\n",
       " 158,\n",
       " 90,\n",
       " 206,\n",
       " 106,\n",
       " 58,\n",
       " 226,\n",
       " 140,\n",
       " 6,\n",
       " 192,\n",
       " 296,\n",
       " 90,\n",
       " 290,\n",
       " 26,\n",
       " 8,\n",
       " 220,\n",
       " 168,\n",
       " 294,\n",
       " 238,\n",
       " 138,\n",
       " 150,\n",
       " 102,\n",
       " 192,\n",
       " 2,\n",
       " 140,\n",
       " 6]"
      ]
     },
     "execution_count": 15,
     "metadata": {},
     "output_type": "execute_result"
    }
   ],
   "source": [
    "[i for i in my_list_1 if i%2 == 0]"
   ]
  },
  {
   "cell_type": "code",
   "execution_count": null,
   "id": "db7e997a-7866-4801-abc5-da93297fde61",
   "metadata": {},
   "outputs": [],
   "source": []
  },
  {
   "cell_type": "code",
   "execution_count": null,
   "id": "41a68d75-24be-41ad-aecf-c2a79780dedd",
   "metadata": {},
   "outputs": [],
   "source": []
  },
  {
   "cell_type": "markdown",
   "id": "2c812440",
   "metadata": {},
   "source": [
    "## Q2. Write a python code to check the type of a variable to ensure that it is of type int. If so, print out the variable and that the input is validated. If it's not an int, print out that the input is invalid."
   ]
  },
  {
   "cell_type": "code",
   "execution_count": 12,
   "id": "8be2e6c4",
   "metadata": {},
   "outputs": [
    {
     "name": "stdout",
     "output_type": "stream",
     "text": [
      "input is invalid\n"
     ]
    }
   ],
   "source": [
    "var = 'stats'\n",
    "if type(var) == int:\n",
    "    print(\"Input is valid\")\n",
    "    \n",
    "else:\n",
    "    print(\"input is invalid\")  \n",
    "    "
   ]
  },
  {
   "cell_type": "code",
   "execution_count": null,
   "id": "666bf53a-c0d1-412a-b0a4-756a88758480",
   "metadata": {},
   "outputs": [],
   "source": []
  },
  {
   "cell_type": "markdown",
   "id": "288fab6c",
   "metadata": {},
   "source": [
    "## Q3. Write a python code to determine the number of days in the current month. We can assume it's not a leap year."
   ]
  },
  {
   "cell_type": "code",
   "execution_count": 16,
   "id": "5c1aeba4",
   "metadata": {},
   "outputs": [
    {
     "name": "stdout",
     "output_type": "stream",
     "text": [
      "4\n",
      "30 days!\n"
     ]
    }
   ],
   "source": [
    "import datetime\n",
    "today_dt = datetime.date.today()\n",
    "current_month = today_dt.month\n",
    "print(current_month)\n",
    "\n",
    "#code to determine the number of days in the current month\n",
    "if current_month in [1, 3, 5, 7, 8, 10, 12]:\n",
    "    print(\"31 days!\")\n",
    "elif current_month == 2:\n",
    "    print(\"28 days!\")\n",
    "else:\n",
    "    print(\"30 days!\")"
   ]
  },
  {
   "cell_type": "code",
   "execution_count": null,
   "id": "87062db8",
   "metadata": {},
   "outputs": [],
   "source": []
  }
 ],
 "metadata": {
  "kernelspec": {
   "display_name": "Python 3 (ipykernel)",
   "language": "python",
   "name": "python3"
  },
  "language_info": {
   "codemirror_mode": {
    "name": "ipython",
    "version": 3
   },
   "file_extension": ".py",
   "mimetype": "text/x-python",
   "name": "python",
   "nbconvert_exporter": "python",
   "pygments_lexer": "ipython3",
   "version": "3.9.7"
  }
 },
 "nbformat": 4,
 "nbformat_minor": 5
}
